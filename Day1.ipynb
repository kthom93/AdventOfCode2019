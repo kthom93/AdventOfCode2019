{
  "nbformat": 4,
  "nbformat_minor": 0,
  "metadata": {
    "colab": {
      "name": "Day1.ipynb",
      "provenance": []
    },
    "kernelspec": {
      "name": "python3",
      "display_name": "Python 3"
    }
  },
  "cells": [
    {
      "cell_type": "markdown",
      "metadata": {
        "id": "qNzVJRI8OtA_",
        "colab_type": "text"
      },
      "source": [
        "# The Tyranny of the Rocket Equation"
      ]
    },
    {
      "cell_type": "markdown",
      "metadata": {
        "id": "-zsFX4DZPMSG",
        "colab_type": "text"
      },
      "source": [
        "## Part 1"
      ]
    },
    {
      "cell_type": "code",
      "metadata": {
        "id": "99r8FQPwPSkE",
        "colab_type": "code",
        "colab": {}
      },
      "source": [
        "massesText = '''51590\n",
        "53619\n",
        "101381\n",
        "81994\n",
        "139683\n",
        "53417\n",
        "124196\n",
        "127640\n",
        "99688\n",
        "116170\n",
        "127812\n",
        "95979\n",
        "73734\n",
        "105347\n",
        "130495\n",
        "89331\n",
        "116486\n",
        "65177\n",
        "143689\n",
        "130487\n",
        "57206\n",
        "74950\n",
        "141398\n",
        "100921\n",
        "114019\n",
        "137106\n",
        "137690\n",
        "70779\n",
        "61421\n",
        "121827\n",
        "122432\n",
        "108229\n",
        "65362\n",
        "70884\n",
        "56127\n",
        "83611\n",
        "126776\n",
        "91422\n",
        "51444\n",
        "52424\n",
        "69535\n",
        "110270\n",
        "115006\n",
        "97214\n",
        "85306\n",
        "77028\n",
        "102078\n",
        "82928\n",
        "101635\n",
        "91889\n",
        "58082\n",
        "72996\n",
        "74276\n",
        "135691\n",
        "113622\n",
        "118522\n",
        "56796\n",
        "115576\n",
        "138861\n",
        "63418\n",
        "64090\n",
        "131682\n",
        "93394\n",
        "61302\n",
        "98591\n",
        "67253\n",
        "69822\n",
        "121652\n",
        "133636\n",
        "106283\n",
        "83460\n",
        "53394\n",
        "65208\n",
        "66158\n",
        "113100\n",
        "52984\n",
        "126741\n",
        "75880\n",
        "124770\n",
        "54681\n",
        "69994\n",
        "138088\n",
        "83435\n",
        "75332\n",
        "114436\n",
        "141680\n",
        "68659\n",
        "111337\n",
        "56920\n",
        "74203\n",
        "96424\n",
        "86848\n",
        "69561\n",
        "53861\n",
        "118216\n",
        "79570\n",
        "136039\n",
        "120959\n",
        "122917\n",
        "122226'''"
      ],
      "execution_count": 0,
      "outputs": []
    },
    {
      "cell_type": "code",
      "metadata": {
        "id": "K8yh633CO4aA",
        "colab_type": "code",
        "colab": {}
      },
      "source": [
        "def requiredFuel(mass):\n",
        "  return (mass // 3) - 2\n",
        "\n",
        "def totalFuel(masses):\n",
        "  total = 0\n",
        "  for mass in masses:\n",
        "    total += requiredFuel(mass)\n",
        "  return total\n",
        "\n",
        "def fixInput(massesText):\n",
        "  return [int(mass) for mass in massesText.split('\\n')]"
      ],
      "execution_count": 0,
      "outputs": []
    },
    {
      "cell_type": "code",
      "metadata": {
        "id": "evT7ExUTPzr2",
        "colab_type": "code",
        "colab": {
          "base_uri": "https://localhost:8080/",
          "height": 34
        },
        "outputId": "f839aa7d-feec-4c35-9482-95e00b3f668d"
      },
      "source": [
        "masses = fixInput(massesText)\n",
        "\n",
        "print(totalFuel(masses))"
      ],
      "execution_count": 7,
      "outputs": [
        {
          "output_type": "stream",
          "text": [
            "3152919\n"
          ],
          "name": "stdout"
        }
      ]
    },
    {
      "cell_type": "markdown",
      "metadata": {
        "id": "7Eh9avXMQJMI",
        "colab_type": "text"
      },
      "source": [
        "## Part 2"
      ]
    },
    {
      "cell_type": "code",
      "metadata": {
        "id": "Jevdrd3hQDlr",
        "colab_type": "code",
        "colab": {}
      },
      "source": [
        "def newTotalFuel(masses):\n",
        "  total = 0\n",
        "  for mass in masses:\n",
        "    fuel = requiredFuel(mass)\n",
        "    \n",
        "    while fuel > 0:\n",
        "      total += fuel\n",
        "      fuel = requiredFuel(fuel)\n",
        "      \n",
        "  return total"
      ],
      "execution_count": 0,
      "outputs": []
    },
    {
      "cell_type": "code",
      "metadata": {
        "id": "enQMk2_pQaRW",
        "colab_type": "code",
        "colab": {
          "base_uri": "https://localhost:8080/",
          "height": 34
        },
        "outputId": "d6308e0a-6927-489d-f742-a5a16a820196"
      },
      "source": [
        "print(newTotalFuel(masses))"
      ],
      "execution_count": 9,
      "outputs": [
        {
          "output_type": "stream",
          "text": [
            "4726527\n"
          ],
          "name": "stdout"
        }
      ]
    },
    {
      "cell_type": "code",
      "metadata": {
        "id": "_wLPOKcMQc0c",
        "colab_type": "code",
        "colab": {}
      },
      "source": [
        ""
      ],
      "execution_count": 0,
      "outputs": []
    }
  ]
}