{
  "nbformat": 4,
  "nbformat_minor": 0,
  "metadata": {
    "colab": {
      "name": "Day16.ipynb",
      "provenance": [],
      "include_colab_link": true
    },
    "kernelspec": {
      "name": "python3",
      "display_name": "Python 3"
    }
  },
  "cells": [
    {
      "cell_type": "markdown",
      "metadata": {
        "id": "view-in-github",
        "colab_type": "text"
      },
      "source": [
        "<a href=\"https://colab.research.google.com/github/kthom93/AdventOfCode2019/blob/master/Day16.ipynb\" target=\"_parent\"><img src=\"https://colab.research.google.com/assets/colab-badge.svg\" alt=\"Open In Colab\"/></a>"
      ]
    },
    {
      "cell_type": "markdown",
      "metadata": {
        "id": "OE5r2d7_7ucH",
        "colab_type": "text"
      },
      "source": [
        "# Flawed Frequency Transmission"
      ]
    },
    {
      "cell_type": "markdown",
      "metadata": {
        "id": "YnpwlteG7xvU",
        "colab_type": "text"
      },
      "source": [
        "# Part 1"
      ]
    },
    {
      "cell_type": "code",
      "metadata": {
        "id": "2lIp-Kpc7xKB",
        "colab_type": "code",
        "colab": {}
      },
      "source": [
        "inp = '59717513948900379305109702352254961099291386881456676203556183151524797037683068791860532352118123252250974130706958763348105389034831381607519427872819735052750376719383812473081415096360867340158428371353702640632449827967163188043812193288449328058464005995046093112575926165337330100634707115160053682715014464686531460025493602539343245166620098362467196933484413717749680188294435582266877493265037758875197256932099061961217414581388227153472347319505899534413848174322474743198535953826086266146686256066319093589456135923631361106367290236939056758783671975582829257390514211329195992209734175732361974503874578275698611819911236908050184158'\n",
        "basePattern = [0, 1, 0, -1]"
      ],
      "execution_count": 0,
      "outputs": []
    },
    {
      "cell_type": "code",
      "metadata": {
        "id": "q3Ls9Sxe9eKe",
        "colab_type": "code",
        "colab": {}
      },
      "source": [
        "import copy as cp"
      ],
      "execution_count": 0,
      "outputs": []
    },
    {
      "cell_type": "code",
      "metadata": {
        "id": "tcmr-mIK8pK4",
        "colab_type": "code",
        "colab": {}
      },
      "source": [
        "def fixInput(inp):\n",
        "  return [int(el) for el in inp]\n",
        "\n",
        "def createNewPattern(basePattern, pCount):\n",
        "  newPattern = []\n",
        "  for num in basePattern:\n",
        "    for i in range(pCount):\n",
        "      newPattern.append(num)\n",
        "  return newPattern\n",
        "\n",
        "def fft(phase, basePattern, epochs):\n",
        "  for epoch in range(epochs):\n",
        "    count = 1\n",
        "    newPhase = []\n",
        "    while count <= len(phase):\n",
        "      result = 0\n",
        "      pattern = createNewPattern(basePattern, count)\n",
        "      pindex = 1\n",
        "      for num in phase:\n",
        "        result += int(num) * pattern[pindex]\n",
        "        pindex = (pindex + 1) % len(pattern)\n",
        "      newPhase.append(abs(result) % 10)\n",
        "      count += 1\n",
        "    phase = newPhase\n",
        "\n",
        "  output = ''\n",
        "  for el in phase:\n",
        "    output += str(el) \n",
        "  return output[:8]"
      ],
      "execution_count": 0,
      "outputs": []
    },
    {
      "cell_type": "code",
      "metadata": {
        "id": "ba2lyL8x8xzD",
        "colab_type": "code",
        "colab": {
          "base_uri": "https://localhost:8080/",
          "height": 34
        },
        "outputId": "72784f14-bbec-473c-9dcf-bb0fa209c750"
      },
      "source": [
        "phase = fixInput(inp)\n",
        "print(fft(phase, cp.copy(basePattern), 100))"
      ],
      "execution_count": 46,
      "outputs": [
        {
          "output_type": "stream",
          "text": [
            "63794407\n"
          ],
          "name": "stdout"
        }
      ]
    },
    {
      "cell_type": "markdown",
      "metadata": {
        "id": "WmhXjhGCD1Yh",
        "colab_type": "text"
      },
      "source": [
        "## Part 2\n",
        "Lots of help here"
      ]
    },
    {
      "cell_type": "code",
      "metadata": {
        "id": "U7NKu3x58zJQ",
        "colab_type": "code",
        "colab": {}
      },
      "source": [
        "def getOffset(inp):\n",
        "  return int(inp[:7])\n",
        "\n",
        "def fft2(phase, basePattern, epochs, offset, repeat):\n",
        "  elements = [int(num) for i in range(repeat) for num in phase][offset:]\n",
        "\n",
        "  for epoch in range(epochs):\n",
        "    for i in range(-2, -len(elements)-1, -1):\n",
        "      elements[i] = (elements[i] + elements[i + 1]) % 10\n",
        "  \n",
        "  return ''.join([str(x) for x in elements[:8]])"
      ],
      "execution_count": 0,
      "outputs": []
    },
    {
      "cell_type": "code",
      "metadata": {
        "id": "7y8--AqIH99C",
        "colab_type": "code",
        "colab": {
          "base_uri": "https://localhost:8080/",
          "height": 34
        },
        "outputId": "820b218e-e28f-46e6-d761-6822d9a271b9"
      },
      "source": [
        "offset = getOffset(inp)\n",
        "phase = fixInput(inp)\n",
        "print(fft2(phase, basePattern, 100, offset, 10000))"
      ],
      "execution_count": 48,
      "outputs": [
        {
          "output_type": "stream",
          "text": [
            "77247538\n"
          ],
          "name": "stdout"
        }
      ]
    },
    {
      "cell_type": "code",
      "metadata": {
        "id": "nVx2Qr60Ipv3",
        "colab_type": "code",
        "colab": {}
      },
      "source": [
        ""
      ],
      "execution_count": 0,
      "outputs": []
    }
  ]
}