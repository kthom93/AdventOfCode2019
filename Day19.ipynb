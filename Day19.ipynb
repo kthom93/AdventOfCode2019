{
  "nbformat": 4,
  "nbformat_minor": 0,
  "metadata": {
    "colab": {
      "name": "Day19.ipynb",
      "provenance": [],
      "include_colab_link": true
    },
    "kernelspec": {
      "name": "python3",
      "display_name": "Python 3"
    }
  },
  "cells": [
    {
      "cell_type": "markdown",
      "metadata": {
        "id": "view-in-github",
        "colab_type": "text"
      },
      "source": [
        "<a href=\"https://colab.research.google.com/github/kthom93/AdventOfCode2019/blob/master/Day19.ipynb\" target=\"_parent\"><img src=\"https://colab.research.google.com/assets/colab-badge.svg\" alt=\"Open In Colab\"/></a>"
      ]
    },
    {
      "cell_type": "markdown",
      "metadata": {
        "id": "a7wEVcZF5XCK",
        "colab_type": "text"
      },
      "source": [
        "# Tractor Beam"
      ]
    },
    {
      "cell_type": "markdown",
      "metadata": {
        "id": "Mgm_GjYg5aXm",
        "colab_type": "text"
      },
      "source": [
        "# Part 1"
      ]
    },
    {
      "cell_type": "code",
      "metadata": {
        "id": "t1FQRwq95Znh",
        "colab_type": "code",
        "colab": {}
      },
      "source": [
        "code = [109,424,203,1,21102,11,1,0,1105,1,282,21101,0,18,0,1105,1,259,2102,1,1,221,203,1,21102,1,31,0,1105,1,282,21102,1,38,0,1105,1,259,21002,23,1,2,21201,1,0,3,21101,0,1,1,21102,57,1,0,1105,1,303,2102,1,1,222,21002,221,1,3,21001,221,0,2,21102,1,259,1,21102,80,1,0,1105,1,225,21102,59,1,2,21102,1,91,0,1105,1,303,1202,1,1,223,21001,222,0,4,21102,259,1,3,21102,1,225,2,21101,225,0,1,21101,118,0,0,1105,1,225,21002,222,1,3,21102,1,112,2,21101,0,133,0,1105,1,303,21202,1,-1,1,22001,223,1,1,21101,148,0,0,1105,1,259,1201,1,0,223,20102,1,221,4,21002,222,1,3,21102,1,18,2,1001,132,-2,224,1002,224,2,224,1001,224,3,224,1002,132,-1,132,1,224,132,224,21001,224,1,1,21101,0,195,0,106,0,108,20207,1,223,2,21001,23,0,1,21102,1,-1,3,21102,1,214,0,1105,1,303,22101,1,1,1,204,1,99,0,0,0,0,109,5,2101,0,-4,249,22101,0,-3,1,21202,-2,1,2,21201,-1,0,3,21101,250,0,0,1105,1,225,22101,0,1,-4,109,-5,2105,1,0,109,3,22107,0,-2,-1,21202,-1,2,-1,21201,-1,-1,-1,22202,-1,-2,-2,109,-3,2106,0,0,109,3,21207,-2,0,-1,1206,-1,294,104,0,99,21202,-2,1,-2,109,-3,2105,1,0,109,5,22207,-3,-4,-1,1206,-1,346,22201,-4,-3,-4,21202,-3,-1,-1,22201,-4,-1,2,21202,2,-1,-1,22201,-4,-1,1,22102,1,-2,3,21101,343,0,0,1106,0,303,1105,1,415,22207,-2,-3,-1,1206,-1,387,22201,-3,-2,-3,21202,-2,-1,-1,22201,-3,-1,3,21202,3,-1,-1,22201,-3,-1,2,22102,1,-4,1,21101,384,0,0,1105,1,303,1105,1,415,21202,-4,-1,-4,22201,-4,-3,-4,22202,-3,-2,-2,22202,-2,-4,-4,22202,-3,-2,-3,21202,-4,-1,-2,22201,-3,-2,1,22102,1,1,-4,109,-5,2106,0,0]"
      ],
      "execution_count": 0,
      "outputs": []
    },
    {
      "cell_type": "code",
      "metadata": {
        "id": "zHn130sn5fWb",
        "colab_type": "code",
        "colab": {}
      },
      "source": [
        "import copy as cp\n",
        "import matplotlib.pyplot as plt"
      ],
      "execution_count": 0,
      "outputs": []
    },
    {
      "cell_type": "code",
      "metadata": {
        "id": "I1aBPlks5hrj",
        "colab_type": "code",
        "colab": {}
      },
      "source": [
        "def plotImage(image):\n",
        "  plt.imshow(image, cmap='Greys')\n",
        "  plt.show()\n",
        "\n",
        "def extendCode(code):\n",
        "  for _ in range(3000):\n",
        "    code.append(0)\n",
        "  return code\n",
        "\n",
        "def intCode(code, pos=0, rel=0, inputs=[]):\n",
        "  def getValue(mode, code, pos, rel):\n",
        "    if mode == 0:\n",
        "      return code[code[pos]]\n",
        "    elif mode == 1:\n",
        "      return code[pos]\n",
        "    elif mode == 2:\n",
        "      return code[code[pos] + rel]\n",
        "    else:\n",
        "      print(\"Unknown Mode: %i\" %mode)\n",
        "\n",
        "  def readParams(params):\n",
        "    modes = []\n",
        "    for i in range(3):\n",
        "      modes.append(params % 10)\n",
        "      params = params // 10\n",
        "    return modes\n",
        "\n",
        "  def writeValue(mode, code, value, pos, rel):\n",
        "    if mode == 0:\n",
        "      code[code[pos]] = value\n",
        "    elif mode == 1:\n",
        "      code[pos] = value\n",
        "    elif mode == 2:\n",
        "      code[code[pos] + rel] = value\n",
        "    else:\n",
        "      print(\"Unknown Mode: %i\" %mode)\n",
        "\n",
        "  output = []\n",
        "  while code[pos] != 99:\n",
        "    com = code[pos] % 100\n",
        "    params = code[pos] // 100\n",
        "    modes = readParams(params)\n",
        "\n",
        "    if com == 1 or com == 2:\n",
        "      left = getValue(modes[0], code, pos+1, rel)\n",
        "      right = getValue(modes[1], code, pos+2, rel)\n",
        "\n",
        "      if com == 1:\n",
        "        answer = left + right\n",
        "      elif com == 2:\n",
        "        answer = left * right\n",
        "      \n",
        "      writeValue(modes[2], code, answer, pos+3, rel)\n",
        "\n",
        "      pos += 4\n",
        "    \n",
        "    elif com == 3:\n",
        "      if len(inputs) == 0:\n",
        "        return output, code, pos, rel, False\n",
        "      value = inputs[0]\n",
        "      inputs.remove(value)\n",
        "      writeValue(modes[0], code, value, pos+1, rel)\n",
        "      pos += 2\n",
        "    \n",
        "    elif com == 4:\n",
        "      output.append(getValue(modes[0], code, pos+1, rel))\n",
        "      pos += 2\n",
        "\n",
        "    elif com == 5 or com == 6:\n",
        "      value = getValue(modes[0], code, pos+1, rel)\n",
        "      \n",
        "      if (com == 5 and value != 0) or (com == 6 and value == 0):\n",
        "        pos = getValue(modes[1], code, pos+2, rel)\n",
        "      else:\n",
        "        pos += 3\n",
        "\n",
        "    elif com == 7 or com == 8:\n",
        "      left = getValue(modes[0], code, pos+1, rel)\n",
        "      right = getValue(modes[1], code, pos+2, rel)\n",
        "      \n",
        "      if (com == 7 and left < right) or (com == 8 and left == right):\n",
        "        writeValue(modes[2], code, 1, pos+3, rel)\n",
        "      else:\n",
        "        writeValue(modes[2], code, 0, pos+3, rel)\n",
        "      pos += 4\n",
        "    \n",
        "    elif com == 9:\n",
        "      rel += getValue(modes[0], code, pos+1, rel)\n",
        "      pos += 2\n",
        "\n",
        "    else:\n",
        "      print(com)\n",
        "      print(\"Error!!!\")\n",
        "      return None\n",
        "  return output, code, 0, 0, True"
      ],
      "execution_count": 0,
      "outputs": []
    },
    {
      "cell_type": "code",
      "metadata": {
        "id": "zoVGHN_n5lrk",
        "colab_type": "code",
        "colab": {}
      },
      "source": [
        "def createGrid(width, height):\n",
        "  grid = []\n",
        "  for y in range(height):\n",
        "    row = []\n",
        "    for x in range(width):\n",
        "      row.append(0)\n",
        "    grid.append(row)\n",
        "  return grid\n",
        "\n",
        "def areaPulled(code, grid):\n",
        "  count = 0\n",
        "  for y in range(len(grid)):\n",
        "    for x in range(len(grid[0])):\n",
        "      output, c, p, r, f = intCode(cp.copy(code), inputs=[x, y])\n",
        "      grid[y][x] = output[0]\n",
        "      count += output[0]\n",
        "  plotImage(grid)\n",
        "  return count"
      ],
      "execution_count": 0,
      "outputs": []
    },
    {
      "cell_type": "code",
      "metadata": {
        "id": "LU-dAEg159Vw",
        "colab_type": "code",
        "colab": {
          "base_uri": "https://localhost:8080/",
          "height": 285
        },
        "outputId": "1bf3863a-9837-4a40-8bd9-6be122ef26bd"
      },
      "source": [
        "grid = createGrid(50, 50)\n",
        "extCode = extendCode(cp.copy(code))\n",
        "\n",
        "print(areaPulled(extCode, grid))"
      ],
      "execution_count": 24,
      "outputs": [
        {
          "output_type": "display_data",
          "data": {
            "image/png": "[encoded data removed]",
            "text/plain": [
              "<Figure size 432x288 with 1 Axes>"
            ]
          },
          "metadata": {
            "tags": []
          }
        },
        {
          "output_type": "stream",
          "text": [
            "199\n"
          ],
          "name": "stdout"
        }
      ]
    },
    {
      "cell_type": "markdown",
      "metadata": {
        "id": "0PuaKCmR90sk",
        "colab_type": "text"
      },
      "source": [
        "## Part 2"
      ]
    },
    {
      "cell_type": "code",
      "metadata": {
        "id": "auvnjP3K6ycr",
        "colab_type": "code",
        "colab": {}
      },
      "source": [
        "def check(x, y, code, size):\n",
        "\n",
        "  for i in range(size):\n",
        "    output, c, p, r, f = intCode(cp.copy(code), inputs=[x + i, y])\n",
        "    if output[0] == 0:\n",
        "      return False\n",
        "    output, c, p, r, f = intCode(cp.copy(code), inputs=[x, y + i])\n",
        "    if output[0] == 0:\n",
        "      return False\n",
        "  return True\n",
        "\n",
        "def findPoint(code, size):\n",
        "  x = 0\n",
        "  # Did a manual search for the y\n",
        "  # Takes a lot longer if y = 0\n",
        "  y = 726\n",
        "\n",
        "  started = False\n",
        "  startx = 0\n",
        "\n",
        "  while True:\n",
        "    x = startx\n",
        "    started = False\n",
        "    while True:\n",
        "      output, c, p, r, f = intCode(cp.copy(code), inputs=[x, y])\n",
        "      if output[0] == 1:\n",
        "        if not started:\n",
        "          startx = x\n",
        "          started = True\n",
        "        if check(x, y, code, size):\n",
        "          return (x * 10000) + y\n",
        "      elif started:\n",
        "        break\n",
        "      x += 1\n",
        "    y += 1\n",
        "  \n",
        "def p(code, size):\n",
        "  for y in range(len(grid)):\n",
        "    row = ''\n",
        "    for x in range(len(grid[0])):\n",
        "      output, c, p, r, f = intCode(cp.copy(code), inputs=[x, y])\n",
        "      if x == 35 and y == 25:\n",
        "        row += 'X'\n",
        "      else:\n",
        "        row += str(output[0])\n",
        "    print(row)"
      ],
      "execution_count": 0,
      "outputs": []
    },
    {
      "cell_type": "code",
      "metadata": {
        "id": "AgRBFYXDALBP",
        "colab_type": "code",
        "colab": {
          "base_uri": "https://localhost:8080/",
          "height": 35
        },
        "outputId": "7bed6341-d737-469b-c772-9da1a56f3d32"
      },
      "source": [
        "extCode = extendCode(cp.copy(code))\n",
        "\n",
        "\n",
        "print(findPoint(extCode, 100))"
      ],
      "execution_count": 98,
      "outputs": [
        {
          "output_type": "stream",
          "text": [
            "10180726\n"
          ],
          "name": "stdout"
        }
      ]
    },
    {
      "cell_type": "code",
      "metadata": {
        "id": "HvHXfDYbATEs",
        "colab_type": "code",
        "colab": {}
      },
      "source": [
        ""
      ],
      "execution_count": 0,
      "outputs": []
    }
  ]
}