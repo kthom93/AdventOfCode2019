{
  "nbformat": 4,
  "nbformat_minor": 0,
  "metadata": {
    "colab": {
      "name": "Day2.ipynb",
      "provenance": [],
      "include_colab_link": true
    },
    "kernelspec": {
      "name": "python3",
      "display_name": "Python 3"
    }
  },
  "cells": [
    {
      "cell_type": "markdown",
      "metadata": {
        "id": "view-in-github",
        "colab_type": "text"
      },
      "source": [
        "<a href=\"https://colab.research.google.com/github/kthom93/AdventOfCode2019/blob/master/Day2.ipynb\" target=\"_parent\"><img src=\"https://colab.research.google.com/assets/colab-badge.svg\" alt=\"Open In Colab\"/></a>"
      ]
    },
    {
      "cell_type": "markdown",
      "metadata": {
        "id": "t4BeX1mURHhp",
        "colab_type": "text"
      },
      "source": [
        "# 1202 Program Alarm"
      ]
    },
    {
      "cell_type": "markdown",
      "metadata": {
        "id": "-ayQDeMtRLHD",
        "colab_type": "text"
      },
      "source": [
        "## Part 1"
      ]
    },
    {
      "cell_type": "code",
      "metadata": {
        "id": "vYpq0HpbRZKP",
        "colab_type": "code",
        "colab": {}
      },
      "source": [
        "code = [1,0,0,3,1,1,2,3,1,3,4,3,1,5,0,3,2,1,10,19,1,19,5,23,1,6,23,27,1,27,5,31,2,31,10,35,2,35,6,39,1,39,5,43,2,43,9,47,1,47,6,51,1,13,51,55,2,9,55,59,1,59,13,63,1,6,63,67,2,67,10,71,1,9,71,75,2,75,6,79,1,79,5,83,1,83,5,87,2,9,87,91,2,9,91,95,1,95,10,99,1,9,99,103,2,103,6,107,2,9,107,111,1,111,5,115,2,6,115,119,1,5,119,123,1,123,2,127,1,127,9,0,99,2,0,14,0]"
      ],
      "execution_count": 0,
      "outputs": []
    },
    {
      "cell_type": "code",
      "metadata": {
        "id": "44gbAF7FRMSI",
        "colab_type": "code",
        "colab": {}
      },
      "source": [
        "import copy as cp"
      ],
      "execution_count": 0,
      "outputs": []
    },
    {
      "cell_type": "code",
      "metadata": {
        "id": "tP7VuS6RRSIa",
        "colab_type": "code",
        "colab": {}
      },
      "source": [
        "def intCode(code):\n",
        "  index = 0\n",
        "  while index < len(code) and code[index] != 99:\n",
        "    command = code[index]\n",
        "    \n",
        "    pos1 = code[index + 1]\n",
        "    pos2 = code[index + 2]\n",
        "    pos3 = code[index + 3]\n",
        "\n",
        "    answer = 0\n",
        "    \n",
        "    if command == 1:\n",
        "      answer = code[pos1] + code[pos2]\n",
        "      \n",
        "    elif command == 2:\n",
        "      answer = code[pos1] * code[pos2]\n",
        "    else:\n",
        "      print(\"Error!!!\")\n",
        "      return None\n",
        "    \n",
        "    code[pos3] = answer\n",
        "\n",
        "    index += 4\n",
        "  return code\n",
        "\n",
        "def modCode(code, noun, verb):\n",
        "  code[1] = noun\n",
        "  code[2] = verb\n",
        "  return code"
      ],
      "execution_count": 0,
      "outputs": []
    },
    {
      "cell_type": "code",
      "metadata": {
        "id": "CGJQlSCARaoK",
        "colab_type": "code",
        "colab": {
          "base_uri": "https://localhost:8080/",
          "height": 34
        },
        "outputId": "c8309bdf-876e-4d61-b383-a735dfbfcb4b"
      },
      "source": [
        "fixedCode = modCode(cp.copy(code), 12, 2)\n",
        "finishedCode = intCode(cp.copy(fixedCode))\n",
        "\n",
        "print(finishedCode[0])"
      ],
      "execution_count": 5,
      "outputs": [
        {
          "output_type": "stream",
          "text": [
            "3267740\n"
          ],
          "name": "stdout"
        }
      ]
    },
    {
      "cell_type": "markdown",
      "metadata": {
        "id": "dTdIwf6nRgo8",
        "colab_type": "text"
      },
      "source": [
        "## Part 2"
      ]
    },
    {
      "cell_type": "code",
      "metadata": {
        "id": "R-o2WW5tRfMr",
        "colab_type": "code",
        "colab": {}
      },
      "source": [
        "def findCorrectInputs(code, target):\n",
        "  for noun in range(0, 100):\n",
        "    for verb in range(0, 100):\n",
        "      fixedCode = modCode(cp.copy(code), noun, verb)\n",
        "      if intCode(fixedCode)[0] == target:\n",
        "        return noun, verb\n",
        "  print(\"Failed\")\n",
        "  return None"
      ],
      "execution_count": 0,
      "outputs": []
    },
    {
      "cell_type": "code",
      "metadata": {
        "id": "KaEanE3dRoj0",
        "colab_type": "code",
        "colab": {
          "base_uri": "https://localhost:8080/",
          "height": 34
        },
        "outputId": "82193f73-2cf2-4535-931c-f687a6f5c204"
      },
      "source": [
        "target = 19690720\n",
        "\n",
        "answer = findCorrectInputs(code, target)\n",
        "\n",
        "if answer != None:\n",
        "  print(100 * answer[0] + answer[1])"
      ],
      "execution_count": 7,
      "outputs": [
        {
          "output_type": "stream",
          "text": [
            "7870\n"
          ],
          "name": "stdout"
        }
      ]
    },
    {
      "cell_type": "code",
      "metadata": {
        "id": "o1c5vhaaRrbd",
        "colab_type": "code",
        "colab": {}
      },
      "source": [
        ""
      ],
      "execution_count": 0,
      "outputs": []
    }
  ]
}