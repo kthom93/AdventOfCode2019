{
  "nbformat": 4,
  "nbformat_minor": 0,
  "metadata": {
    "colab": {
      "name": "Day11.ipynb",
      "provenance": [],
      "include_colab_link": true
    },
    "kernelspec": {
      "name": "python3",
      "display_name": "Python 3"
    }
  },
  "cells": [
    {
      "cell_type": "markdown",
      "metadata": {
        "id": "view-in-github",
        "colab_type": "text"
      },
      "source": [
        "<a href=\"https://colab.research.google.com/github/kthom93/AdventOfCode2019/blob/master/Day11.ipynb\" target=\"_parent\"><img src=\"https://colab.research.google.com/assets/colab-badge.svg\" alt=\"Open In Colab\"/></a>"
      ]
    },
    {
      "cell_type": "markdown",
      "metadata": {
        "id": "B3Mew4M8n_ch",
        "colab_type": "text"
      },
      "source": [
        "# Space Police"
      ]
    },
    {
      "cell_type": "markdown",
      "metadata": {
        "id": "KjpX9wYxoGUZ",
        "colab_type": "text"
      },
      "source": [
        "## Part 1"
      ]
    },
    {
      "cell_type": "code",
      "metadata": {
        "id": "61MZpeB8oNmW",
        "colab_type": "code",
        "colab": {}
      },
      "source": [
        "code = [3,8,1005,8,311,1106,0,11,0,0,0,104,1,104,0,3,8,1002,8,-1,10,101,1,10,10,4,10,108,0,8,10,4,10,1002,8,1,28,2,103,7,10,3,8,1002,8,-1,10,101,1,10,10,4,10,1008,8,1,10,4,10,1001,8,0,55,2,3,6,10,1,101,5,10,1,6,7,10,3,8,1002,8,-1,10,101,1,10,10,4,10,1008,8,0,10,4,10,1001,8,0,89,1,1108,11,10,2,1002,13,10,1006,0,92,1,2,13,10,3,8,102,-1,8,10,1001,10,1,10,4,10,1008,8,0,10,4,10,101,0,8,126,3,8,1002,8,-1,10,101,1,10,10,4,10,108,1,8,10,4,10,1002,8,1,147,1,7,0,10,3,8,1002,8,-1,10,1001,10,1,10,4,10,108,0,8,10,4,10,101,0,8,173,1006,0,96,3,8,102,-1,8,10,101,1,10,10,4,10,108,0,8,10,4,10,1001,8,0,198,1,3,7,10,1006,0,94,2,1003,20,10,3,8,102,-1,8,10,1001,10,1,10,4,10,1008,8,1,10,4,10,102,1,8,232,3,8,102,-1,8,10,101,1,10,10,4,10,108,1,8,10,4,10,102,1,8,253,1006,0,63,1,109,16,10,3,8,1002,8,-1,10,101,1,10,10,4,10,1008,8,1,10,4,10,101,0,8,283,2,1107,14,10,1,105,11,10,101,1,9,9,1007,9,1098,10,1005,10,15,99,109,633,104,0,104,1,21102,837951005592,1,1,21101,328,0,0,1105,1,432,21101,0,847069840276,1,21101,0,339,0,1106,0,432,3,10,104,0,104,1,3,10,104,0,104,0,3,10,104,0,104,1,3,10,104,0,104,1,3,10,104,0,104,0,3,10,104,0,104,1,21102,179318123543,1,1,21102,386,1,0,1106,0,432,21102,1,29220688067,1,21102,1,397,0,1106,0,432,3,10,104,0,104,0,3,10,104,0,104,0,21102,709580567396,1,1,21102,1,420,0,1105,1,432,21102,1,868498694912,1,21102,431,1,0,1106,0,432,99,109,2,22101,0,-1,1,21101,40,0,2,21101,0,463,3,21101,0,453,0,1105,1,496,109,-2,2106,0,0,0,1,0,0,1,109,2,3,10,204,-1,1001,458,459,474,4,0,1001,458,1,458,108,4,458,10,1006,10,490,1102,1,0,458,109,-2,2105,1,0,0,109,4,1202,-1,1,495,1207,-3,0,10,1006,10,513,21102,0,1,-3,21201,-3,0,1,21202,-2,1,2,21101,0,1,3,21101,0,532,0,1106,0,537,109,-4,2106,0,0,109,5,1207,-3,1,10,1006,10,560,2207,-4,-2,10,1006,10,560,22102,1,-4,-4,1105,1,628,21201,-4,0,1,21201,-3,-1,2,21202,-2,2,3,21101,0,579,0,1105,1,537,22101,0,1,-4,21102,1,1,-1,2207,-4,-2,10,1006,10,598,21102,1,0,-1,22202,-2,-1,-2,2107,0,-3,10,1006,10,620,22102,1,-1,1,21101,0,620,0,106,0,495,21202,-2,-1,-2,22201,-4,-2,-4,109,-5,2106,0,0]"
      ],
      "execution_count": 0,
      "outputs": []
    },
    {
      "cell_type": "code",
      "metadata": {
        "id": "-HCIMHkAoHMZ",
        "colab_type": "code",
        "colab": {}
      },
      "source": [
        "import copy as cp\n",
        "import matplotlib.pyplot as plt"
      ],
      "execution_count": 0,
      "outputs": []
    },
    {
      "cell_type": "code",
      "metadata": {
        "id": "QFg2hdVRoPXy",
        "colab_type": "code",
        "colab": {}
      },
      "source": [
        "size = 100\n",
        "def extendCode(code):\n",
        "  for _ in range(3000):\n",
        "    code.append(0)\n",
        "  return code\n",
        "\n",
        "def getValue(mode, code, pos, rel):\n",
        "  if mode == 0:\n",
        "    return code[code[pos]]\n",
        "  elif mode == 1:\n",
        "    return code[pos]\n",
        "  elif mode == 2:\n",
        "    return code[code[pos] + rel]\n",
        "  else:\n",
        "    print(\"Unknown Mode: %i\" %mode)\n",
        "\n",
        "\n",
        "def readParams(params):\n",
        "  modes = []\n",
        "  for i in range(3):\n",
        "    modes.append(params % 10)\n",
        "    params = params // 10\n",
        "  return modes\n",
        "\n",
        "def writeValue(mode, code, value, pos, rel):\n",
        "  if mode == 0:\n",
        "    code[code[pos]] = value\n",
        "  elif mode == 1:\n",
        "    code[pos] = value\n",
        "  elif mode == 2:\n",
        "    code[code[pos] + rel] = value\n",
        "  else:\n",
        "    print(\"Unknown Mode: %i\" %mode)\n",
        "\n",
        "def intCode(code, pos=0, rel=0, inputs=[]):\n",
        "  output = []\n",
        "  while code[pos] != 99:\n",
        "    com = code[pos] % 100\n",
        "    params = code[pos] // 100\n",
        "    modes = readParams(params)\n",
        "\n",
        "    if com == 1 or com == 2:\n",
        "      left = getValue(modes[0], code, pos+1, rel)\n",
        "      right = getValue(modes[1], code, pos+2, rel)\n",
        "\n",
        "      if com == 1:\n",
        "        answer = left + right\n",
        "      elif com == 2:\n",
        "        answer = left * right\n",
        "      \n",
        "      writeValue(modes[2], code, answer, pos+3, rel)\n",
        "\n",
        "      pos += 4\n",
        "    \n",
        "    elif com == 3:\n",
        "      if len(inputs) == 0:\n",
        "        return output, code, pos, rel, False\n",
        "      value = inputs[0]\n",
        "      inputs.remove(value)\n",
        "      writeValue(modes[0], code, value, pos+1, rel)\n",
        "      pos += 2\n",
        "    \n",
        "    elif com == 4:\n",
        "      output.append(getValue(modes[0], code, pos+1, rel))\n",
        "      pos += 2\n",
        "\n",
        "    elif com == 5 or com == 6:\n",
        "      value = getValue(modes[0], code, pos+1, rel)\n",
        "      \n",
        "      if (com == 5 and value != 0) or (com == 6 and value == 0):\n",
        "        pos = getValue(modes[1], code, pos+2, rel)\n",
        "      else:\n",
        "        pos += 3\n",
        "\n",
        "    elif com == 7 or com == 8:\n",
        "      left = getValue(modes[0], code, pos+1, rel)\n",
        "      right = getValue(modes[1], code, pos+2, rel)\n",
        "      \n",
        "      if (com == 7 and left < right) or (com == 8 and left == right):\n",
        "        writeValue(modes[2], code, 1, pos+3, rel)\n",
        "      else:\n",
        "        writeValue(modes[2], code, 0, pos+3, rel)\n",
        "      pos += 4\n",
        "    \n",
        "    elif com == 9:\n",
        "      rel += getValue(modes[0], code, pos+1, rel)\n",
        "      pos += 2\n",
        "\n",
        "    else:\n",
        "      print(\"Error\")\n",
        "      return None\n",
        "  return output, code, rel, 0, True\n",
        "\n",
        "def createGrid():\n",
        "  grid = []\n",
        "  for y in range(size):\n",
        "    row = []\n",
        "    for x in range(size):\n",
        "      row.append(0)\n",
        "    grid.append(row)\n",
        "  return grid\n",
        "\n",
        "def paint(code, starting):\n",
        "  paintedPanels = set()\n",
        "  grid = createGrid()\n",
        "  grid[size // 2][size // 2] = starting\n",
        "  robot = Robot(code)\n",
        "  return robot.paint(grid)\n",
        "\n",
        "class Robot():\n",
        "  def __init__(self, code):\n",
        "    self.code = code\n",
        "    self.pos = 0\n",
        "    self.rel = 0\n",
        "    self.finished = False\n",
        "    self.x = size // 2\n",
        "    self.y = size // 2\n",
        "    self.facing = 0\n",
        "  \n",
        "  def paint(self, grid):\n",
        "    painted = set()\n",
        "\n",
        "    while not self.finished:\n",
        "      color = grid[self.y][self.x]\n",
        "      instruction, self.code, self.pos, self.rel, self.finished = intCode(self.code, pos=self.pos, rel=self.rel, inputs=[color])\n",
        "      grid[self.y][self.x] = instruction[0]\n",
        "      painted.add((self.y, self.x))\n",
        "      if instruction[1]:\n",
        "        self.facing = (self.facing + 1) % 4\n",
        "      else:\n",
        "        self.facing = (self.facing - 1) % 4\n",
        "      if self.facing == 0:\n",
        "        self.y -= 1\n",
        "      elif self.facing == 1:\n",
        "        self.x += 1\n",
        "      elif self.facing == 2:\n",
        "        self.y += 1\n",
        "      elif self.facing == 3:\n",
        "        self.x -= 1\n",
        "\n",
        "    return grid, len(painted)\n",
        "\n",
        "\n",
        "\n",
        "def plotImage(image):\n",
        "  plt.imshow(image, cmap='gray')\n",
        "  plt.show()"
      ],
      "execution_count": 0,
      "outputs": []
    },
    {
      "cell_type": "code",
      "metadata": {
        "id": "5nrdTlTTolWG",
        "colab_type": "code",
        "colab": {
          "base_uri": "https://localhost:8080/",
          "height": 285
        },
        "outputId": "a3b40ae5-139a-431a-d665-a6c999c95da3"
      },
      "source": [
        "extCode = extendCode(cp.copy(code))\n",
        "grid, num = paint(extCode, 0)\n",
        "plotImage(grid)\n",
        "print(num)"
      ],
      "execution_count": 4,
      "outputs": [
        {
          "output_type": "display_data",
          "data": {
            "image/png": "[encoded data removed]",
            "text/plain": [
              "<Figure size 432x288 with 1 Axes>"
            ]
          },
          "metadata": {
            "tags": []
          }
        },
        {
          "output_type": "stream",
          "text": [
            "2336\n"
          ],
          "name": "stdout"
        }
      ]
    },
    {
      "cell_type": "markdown",
      "metadata": {
        "id": "uGaqkIlAor1Q",
        "colab_type": "text"
      },
      "source": [
        "## Part 2"
      ]
    },
    {
      "cell_type": "code",
      "metadata": {
        "id": "-EEWyK91onIw",
        "colab_type": "code",
        "colab": {
          "base_uri": "https://localhost:8080/",
          "height": 285
        },
        "outputId": "a25210cb-a82b-4c94-c62e-4f182af7a926"
      },
      "source": [
        "extCode = extendCode(cp.copy(code))\n",
        "grid, num = paint(extCode, 1)\n",
        "plotImage(grid)\n",
        "print(num)"
      ],
      "execution_count": 5,
      "outputs": [
        {
          "output_type": "display_data",
          "data": {
            "image/png": "[encoded data removed]",
            "text/plain": [
              "<Figure size 432x288 with 1 Axes>"
            ]
          },
          "metadata": {
            "tags": []
          }
        },
        {
          "output_type": "stream",
          "text": [
            "249\n"
          ],
          "name": "stdout"
        }
      ]
    },
    {
      "cell_type": "code",
      "metadata": {
        "id": "qaKjJSnbowG_",
        "colab_type": "code",
        "colab": {}
      },
      "source": [
        ""
      ],
      "execution_count": 0,
      "outputs": []
    }
  ]
}