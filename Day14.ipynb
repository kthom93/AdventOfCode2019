{
  "nbformat": 4,
  "nbformat_minor": 0,
  "metadata": {
    "colab": {
      "name": "Day14.ipynb",
      "provenance": [],
      "include_colab_link": true
    },
    "kernelspec": {
      "name": "python3",
      "display_name": "Python 3"
    },
    "accelerator": "GPU"
  },
  "cells": [
    {
      "cell_type": "markdown",
      "metadata": {
        "id": "view-in-github",
        "colab_type": "text"
      },
      "source": [
        "<a href=\"https://colab.research.google.com/github/kthom93/AdventOfCode2019/blob/master/Day14.ipynb\" target=\"_parent\"><img src=\"https://colab.research.google.com/assets/colab-badge.svg\" alt=\"Open In Colab\"/></a>"
      ]
    },
    {
      "cell_type": "markdown",
      "metadata": {
        "id": "4ku9_UV2xE2Q",
        "colab_type": "text"
      },
      "source": [
        "# Day 14: Space Stoichiometry"
      ]
    },
    {
      "cell_type": "markdown",
      "metadata": {
        "id": "cmiv50FVxJDG",
        "colab_type": "text"
      },
      "source": [
        "## Part 1"
      ]
    },
    {
      "cell_type": "code",
      "metadata": {
        "id": "R0075NrMxHY3",
        "colab_type": "code",
        "colab": {}
      },
      "source": [
        "rulesText = '''4 JWXL => 8 SNBF\n",
        "23 MPZQF, 10 TXVW, 8 JWXL => 6 DXLB\n",
        "1 SNZDR, 5 XMWHC, 1 NJSC => 7 MHSB\n",
        "2 TDHD, 11 TXVW => 4 RFNZ\n",
        "2 VRCD, 1 FGZG, 3 JWXL, 1 HQTL, 2 MPZQF, 1 GTPJ, 5 HQNMK, 10 CQZQ => 9 QMTZB\n",
        "3 SRDB, 2 ZMVLP => 3 DHFD\n",
        "1 DFQGF => 1 CVXJR\n",
        "193 ORE => 3 TRWXF\n",
        "23 MFJMS, 4 HJXJH => 1 WVDF\n",
        "5 TRWXF => 5 RXFJ\n",
        "4 GZQH => 7 SNZDR\n",
        "160 ORE => 4 PLPF\n",
        "1 PLPF => 5 NJSC\n",
        "2 QKPZ, 2 JBWFL => 7 HBSC\n",
        "15 DXLB, 1 TDHD, 9 RFNZ => 5 DBRPW\n",
        "7 PLPF, 4 GMZH => 7 PVNX\n",
        "3 JWXL, 1 XWDNT, 4 CQZQ => 2 TPBXV\n",
        "2 SNZDR => 9 WQWT\n",
        "1 WMCF => 2 XWDNT\n",
        "1 DFQGF, 8 FGZG => 5 LMHJQ\n",
        "168 ORE => 9 GMZH\n",
        "18 PVNX, 3 RXFJ => 4 JBWFL\n",
        "5 WQWT => 1 CQZQ\n",
        "6 QMTZB, 28 NVWM, 8 LMHJQ, 1 SNBF, 15 PLPF, 3 KMXPQ, 43 WVDF, 52 SVNS => 1 FUEL\n",
        "164 ORE => 9 RXRMQ\n",
        "2 MFJMS, 1 HJXJH, 7 WVDF => 7 NXWC\n",
        "8 QDGBV, 1 WMCF, 2 MHSB => 6 HQTL\n",
        "1 XMWHC => 8 MLSK\n",
        "2 GMZH, 1 RXRMQ => 2 GZQH\n",
        "4 MPZQF, 7 WVDF => 9 KHJMV\n",
        "4 ZMVLP, 19 MLSK, 1 GZQH => 8 MFJMS\n",
        "1 HQTL, 1 SXKQ => 2 PWBKR\n",
        "3 SXKQ, 16 TXVW, 4 SVNS => 5 PSRF\n",
        "4 MPZQF, 3 SVNS => 9 QDGBV\n",
        "7 NXWC => 8 FGZG\n",
        "7 TDHD, 1 WQWT, 1 HBSC => 9 TXVW\n",
        "14 JBWFL => 5 LMXB\n",
        "1 VRCD, 3 KHJMV => 3 RTBL\n",
        "16 DHFD, 2 LBNK => 9 SXKQ\n",
        "1 QDGBV, 1 NJSC => 6 JWXL\n",
        "4 KHJMV => 3 HQNMK\n",
        "5 GZQH => 6 LBNK\n",
        "12 KHJMV, 19 FGZG, 3 XWDNT => 4 VRCD\n",
        "5 DHFD, 3 MLSK => 8 QKPZ\n",
        "4 KHJMV, 1 CQDR, 3 DBRPW, 2 CQZQ, 1 TPBXV, 15 TXVW, 2 TKSLM => 5 NVWM\n",
        "2 KHJMV => 5 CQDR\n",
        "1 CVXJR => 8 SVNS\n",
        "35 RXFJ, 5 NJSC, 22 PVNX => 9 HJXJH\n",
        "5 LMXB => 3 DFQGF\n",
        "1 RXFJ => 2 SRDB\n",
        "20 TPBXV, 1 RTBL, 13 PWBKR, 6 RFNZ, 1 LMXB, 2 CVXJR, 3 PSRF, 25 MPZQF => 9 KMXPQ\n",
        "1 MHSB, 8 MPZQF => 3 TDHD\n",
        "6 DHFD, 3 LBNK => 7 WMCF\n",
        "1 SRDB => 7 ZMVLP\n",
        "3 RXFJ => 8 XMWHC\n",
        "1 MPZQF => 8 TKSLM\n",
        "9 JBWFL, 22 WQWT => 8 MPZQF\n",
        "12 HBSC, 15 TKSLM => 1 GTPJ'''"
      ],
      "execution_count": 0,
      "outputs": []
    },
    {
      "cell_type": "code",
      "metadata": {
        "id": "ggJexh9SybQA",
        "colab_type": "code",
        "colab": {}
      },
      "source": [
        "import copy as cp\n",
        "import math"
      ],
      "execution_count": 0,
      "outputs": []
    },
    {
      "cell_type": "code",
      "metadata": {
        "id": "-uhP2XG6x-AF",
        "colab_type": "code",
        "colab": {}
      },
      "source": [
        "class Rule():\n",
        "  def __init__(self, reqCounts, reqEls, proCount, proEl):\n",
        "    self.reqCounts = reqCounts\n",
        "    self.reqEls = reqEls\n",
        "    self.proCount = proCount\n",
        "    self.proEl = proEl\n",
        "\n",
        "def createRules(rulesText):\n",
        "  rulesList = rulesText.split('\\n')\n",
        "  rules = []\n",
        "  for rule in rulesList:\n",
        "    reqText, proText = rule.split(' => ')\n",
        "    reqs = [r.strip() for r in reqText.split(',')]\n",
        "    reqCounts = []\n",
        "    reqEls = []\n",
        "    for req in reqs:\n",
        "      r, e = req.split(' ')\n",
        "      reqCounts.append(int(r))\n",
        "      reqEls.append(e)\n",
        "    proCount, proEl = proText.split(' ')\n",
        "    rules.append(Rule(reqCounts, reqEls, int(proCount), proEl))\n",
        "\n",
        "  return rules\n",
        "\n",
        "def requiredOre(rules, amount=1):\n",
        "  bag = {'FUEL': amount}\n",
        "  extra = {}\n",
        "  total = 0\n",
        "\n",
        "  while bag:\n",
        "    curEl = list(bag.keys())[0]\n",
        "    curCount = bag[curEl]\n",
        "    del bag[curEl]\n",
        "\n",
        "    if curEl == 'ORE':\n",
        "      total += curCount\n",
        "      print(total)\n",
        "      continue\n",
        "\n",
        "    curRule = None\n",
        "    for rule in rules:\n",
        "      if rule.proEl == curEl:\n",
        "        curRule = rule\n",
        "\n",
        "    if curEl in extra:\n",
        "      val = extra[curEl]\n",
        "      if val > curCount:\n",
        "        extra[curEl] = extra[curEl] - curCount\n",
        "        continue\n",
        "      elif val == curCount:\n",
        "        del extra[curEl]\n",
        "        continue\n",
        "      else:\n",
        "        del extra[curEl]\n",
        "        curCount -= val\n",
        "    m = 1\n",
        "    while curRule.proCount * m < curCount:\n",
        "      m += 1\n",
        "    left = (curRule.proCount * m) - curCount\n",
        "\n",
        "    for i in range(len(curRule.reqCounts)):\n",
        "      if curRule.reqEls[i] in bag:\n",
        "        bag[curRule.reqEls[i]] = bag[curRule.reqEls[i]] + (m * curRule.reqCounts[i])\n",
        "      else:\n",
        "        bag[curRule.reqEls[i]] = m * curRule.reqCounts[i]\n",
        "    if left != 0:\n",
        "      if curEl in extra:\n",
        "        extra[curEl] = extra[curEl] + left\n",
        "      else:\n",
        "        extra[curEl] = left\n",
        "  return total\n",
        "      "
      ],
      "execution_count": 0,
      "outputs": []
    },
    {
      "cell_type": "code",
      "metadata": {
        "id": "Qpzhwy2hyPkz",
        "colab_type": "code",
        "colab": {
          "base_uri": "https://localhost:8080/",
          "height": 156
        },
        "outputId": "eeccd680-856a-48ce-f6d8-87f48321e22c"
      },
      "source": [
        "rules = createRules(cp.copy(rulesText))\n",
        "print(requiredOre(rules))"
      ],
      "execution_count": 5,
      "outputs": [
        {
          "output_type": "stream",
          "text": [
            "640\n",
            "90038\n",
            "226068\n",
            "420466\n",
            "589682\n",
            "594682\n",
            "598038\n",
            "598038\n"
          ],
          "name": "stdout"
        }
      ]
    },
    {
      "cell_type": "markdown",
      "metadata": {
        "id": "gKk3xF1MCrNF",
        "colab_type": "text"
      },
      "source": [
        "## Part 2"
      ]
    },
    {
      "cell_type": "code",
      "metadata": {
        "id": "LQAChm06yc_F",
        "colab_type": "code",
        "colab": {}
      },
      "source": [
        "def findMax(rules, limit):\n",
        "  oneUnit = requiredOre(rules, 1)\n",
        "  target = limit // oneUnit\n",
        "  usedOre = requiredOre(rules, target)\n",
        "\n",
        "  while True:\n",
        "    target += (limit - usedOre) // oneUnit + 1\n",
        "    usedOre = requiredOre(rules, target)\n",
        "    if usedOre > limit:\n",
        "      break\n",
        "  return target - 1"
      ],
      "execution_count": 0,
      "outputs": []
    },
    {
      "cell_type": "code",
      "metadata": {
        "id": "6EeVatV5C8_U",
        "colab_type": "code",
        "colab": {
          "base_uri": "https://localhost:8080/",
          "height": 1000
        },
        "outputId": "ba78276c-b125-4a6a-c85b-088e1a99cee4"
      },
      "source": [
        "rules = createRules(cp.copy(rulesText))\n",
        "print(findMax(rules, 1000000000000))"
      ],
      "execution_count": 7,
      "outputs": [
        {
          "output_type": "stream",
          "text": [
            "640\n",
            "90038\n",
            "226068\n",
            "420466\n",
            "589682\n",
            "594682\n",
            "598038\n",
            "1003280480\n",
            "124508600163\n",
            "264399927018\n",
            "523754599092\n",
            "727413016469\n",
            "735133136159\n",
            "736842046419\n",
            "1267302080\n",
            "157274078519\n",
            "333978983919\n",
            "661584992161\n",
            "918837804822\n",
            "928589532489\n",
            "930748155375\n",
            "1336781440\n",
            "165896582055\n",
            "352289288775\n",
            "697856207141\n",
            "969212826272\n",
            "979499170622\n",
            "981776138643\n",
            "1355065280\n",
            "168165616504\n",
            "357107677963\n",
            "707401048116\n",
            "982469132331\n",
            "992896186107\n",
            "995204301157\n",
            "1359877280\n",
            "168762800853\n",
            "358375847725\n",
            "709913176247\n",
            "985958038867\n",
            "996422097135\n",
            "998738404654\n",
            "1361143200\n",
            "168919914798\n",
            "358709482572\n",
            "710574069187\n",
            "986875942452\n",
            "997349751669\n",
            "999668218157\n",
            "1361476320\n",
            "168961240106\n",
            "358797229542\n",
            "710747904880\n",
            "987117390697\n",
            "997593784855\n",
            "999912815421\n",
            "1361563840\n",
            "168972109187\n",
            "358820315172\n",
            "710793626059\n",
            "987180842360\n",
            "997657875719\n",
            "999977052446\n",
            "1361587200\n",
            "168975012831\n",
            "358826505562\n",
            "710805862539\n",
            "987197849366\n",
            "997675068915\n",
            "999994288582\n",
            "1361593280\n",
            "168975759009\n",
            "358828062091\n",
            "710808985148\n",
            "987202211517\n",
            "997679489112\n",
            "999998723460\n",
            "1361595040\n",
            "168975982118\n",
            "358828539293\n",
            "710809884550\n",
            "987203431805\n",
            "997680720196\n",
            "999999954930\n",
            "1361595680\n",
            "168976055404\n",
            "358828670315\n",
            "710810186361\n",
            "987203872889\n",
            "997681168800\n",
            "1000000403341\n",
            "2269325\n"
          ],
          "name": "stdout"
        }
      ]
    },
    {
      "cell_type": "code",
      "metadata": {
        "id": "-f1pIqBfDWmR",
        "colab_type": "code",
        "colab": {}
      },
      "source": [
        ""
      ],
      "execution_count": 0,
      "outputs": []
    }
  ]
}