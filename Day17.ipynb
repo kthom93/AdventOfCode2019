{
  "nbformat": 4,
  "nbformat_minor": 0,
  "metadata": {
    "colab": {
      "name": "Day17.ipynb",
      "provenance": [],
      "collapsed_sections": [],
      "include_colab_link": true
    },
    "kernelspec": {
      "name": "python3",
      "display_name": "Python 3"
    }
  },
  "cells": [
    {
      "cell_type": "markdown",
      "metadata": {
        "id": "view-in-github",
        "colab_type": "text"
      },
      "source": [
        "<a href=\"https://colab.research.google.com/github/kthom93/AdventOfCode2019/blob/master/Day17.ipynb\" target=\"_parent\"><img src=\"https://colab.research.google.com/assets/colab-badge.svg\" alt=\"Open In Colab\"/></a>"
      ]
    },
    {
      "cell_type": "markdown",
      "metadata": {
        "id": "9rJXAvcVpnvz",
        "colab_type": "text"
      },
      "source": [
        "# Set and Forget"
      ]
    },
    {
      "cell_type": "markdown",
      "metadata": {
        "id": "TyXWau4opqNi",
        "colab_type": "text"
      },
      "source": [
        "## Part 1"
      ]
    },
    {
      "cell_type": "code",
      "metadata": {
        "id": "-L-FtTIIqGm8",
        "colab_type": "code",
        "colab": {}
      },
      "source": [
        "code = [1,330,331,332,109,3664,1102,1,1182,15,1101,0,1455,24,1001,0,0,570,1006,570,36,102,1,571,0,1001,570,-1,570,1001,24,1,24,1105,1,18,1008,571,0,571,1001,15,1,15,1008,15,1455,570,1006,570,14,21101,58,0,0,1105,1,786,1006,332,62,99,21102,333,1,1,21102,1,73,0,1105,1,579,1102,1,0,572,1101,0,0,573,3,574,101,1,573,573,1007,574,65,570,1005,570,151,107,67,574,570,1005,570,151,1001,574,-64,574,1002,574,-1,574,1001,572,1,572,1007,572,11,570,1006,570,165,101,1182,572,127,102,1,574,0,3,574,101,1,573,573,1008,574,10,570,1005,570,189,1008,574,44,570,1006,570,158,1105,1,81,21101,340,0,1,1105,1,177,21102,1,477,1,1106,0,177,21101,514,0,1,21102,1,176,0,1105,1,579,99,21102,1,184,0,1106,0,579,4,574,104,10,99,1007,573,22,570,1006,570,165,102,1,572,1182,21102,375,1,1,21101,211,0,0,1106,0,579,21101,1182,11,1,21102,222,1,0,1105,1,979,21102,1,388,1,21101,233,0,0,1105,1,579,21101,1182,22,1,21102,1,244,0,1105,1,979,21102,401,1,1,21101,0,255,0,1106,0,579,21101,1182,33,1,21101,266,0,0,1106,0,979,21101,414,0,1,21102,277,1,0,1105,1,579,3,575,1008,575,89,570,1008,575,121,575,1,575,570,575,3,574,1008,574,10,570,1006,570,291,104,10,21101,0,1182,1,21102,313,1,0,1105,1,622,1005,575,327,1102,1,1,575,21102,1,327,0,1105,1,786,4,438,99,0,1,1,6,77,97,105,110,58,10,33,10,69,120,112,101,99,116,101,100,32,102,117,110,99,116,105,111,110,32,110,97,109,101,32,98,117,116,32,103,111,116,58,32,0,12,70,117,110,99,116,105,111,110,32,65,58,10,12,70,117,110,99,116,105,111,110,32,66,58,10,12,70,117,110,99,116,105,111,110,32,67,58,10,23,67,111,110,116,105,110,117,111,117,115,32,118,105,100,101,111,32,102,101,101,100,63,10,0,37,10,69,120,112,101,99,116,101,100,32,82,44,32,76,44,32,111,114,32,100,105,115,116,97,110,99,101,32,98,117,116,32,103,111,116,58,32,36,10,69,120,112,101,99,116,101,100,32,99,111,109,109,97,32,111,114,32,110,101,119,108,105,110,101,32,98,117,116,32,103,111,116,58,32,43,10,68,101,102,105,110,105,116,105,111,110,115,32,109,97,121,32,98,101,32,97,116,32,109,111,115,116,32,50,48,32,99,104,97,114,97,99,116,101,114,115,33,10,94,62,118,60,0,1,0,-1,-1,0,1,0,0,0,0,0,0,1,46,22,0,109,4,2102,1,-3,587,20102,1,0,-1,22101,1,-3,-3,21102,1,0,-2,2208,-2,-1,570,1005,570,617,2201,-3,-2,609,4,0,21201,-2,1,-2,1106,0,597,109,-4,2105,1,0,109,5,2102,1,-4,629,21002,0,1,-2,22101,1,-4,-4,21101,0,0,-3,2208,-3,-2,570,1005,570,781,2201,-4,-3,652,21001,0,0,-1,1208,-1,-4,570,1005,570,709,1208,-1,-5,570,1005,570,734,1207,-1,0,570,1005,570,759,1206,-1,774,1001,578,562,684,1,0,576,576,1001,578,566,692,1,0,577,577,21101,702,0,0,1105,1,786,21201,-1,-1,-1,1105,1,676,1001,578,1,578,1008,578,4,570,1006,570,724,1001,578,-4,578,21102,731,1,0,1106,0,786,1106,0,774,1001,578,-1,578,1008,578,-1,570,1006,570,749,1001,578,4,578,21102,1,756,0,1105,1,786,1105,1,774,21202,-1,-11,1,22101,1182,1,1,21102,774,1,0,1106,0,622,21201,-3,1,-3,1105,1,640,109,-5,2106,0,0,109,7,1005,575,802,20101,0,576,-6,21002,577,1,-5,1105,1,814,21101,0,0,-1,21101,0,0,-5,21102,0,1,-6,20208,-6,576,-2,208,-5,577,570,22002,570,-2,-2,21202,-5,47,-3,22201,-6,-3,-3,22101,1455,-3,-3,2102,1,-3,843,1005,0,863,21202,-2,42,-4,22101,46,-4,-4,1206,-2,924,21102,1,1,-1,1106,0,924,1205,-2,873,21101,0,35,-4,1105,1,924,1202,-3,1,878,1008,0,1,570,1006,570,916,1001,374,1,374,2101,0,-3,895,1101,2,0,0,1201,-3,0,902,1001,438,0,438,2202,-6,-5,570,1,570,374,570,1,570,438,438,1001,578,558,921,21001,0,0,-4,1006,575,959,204,-4,22101,1,-6,-6,1208,-6,47,570,1006,570,814,104,10,22101,1,-5,-5,1208,-5,47,570,1006,570,810,104,10,1206,-1,974,99,1206,-1,974,1101,0,1,575,21101,0,973,0,1105,1,786,99,109,-7,2105,1,0,109,6,21102,0,1,-4,21101,0,0,-3,203,-2,22101,1,-3,-3,21208,-2,82,-1,1205,-1,1030,21208,-2,76,-1,1205,-1,1037,21207,-2,48,-1,1205,-1,1124,22107,57,-2,-1,1205,-1,1124,21201,-2,-48,-2,1105,1,1041,21101,0,-4,-2,1105,1,1041,21101,-5,0,-2,21201,-4,1,-4,21207,-4,11,-1,1206,-1,1138,2201,-5,-4,1059,2102,1,-2,0,203,-2,22101,1,-3,-3,21207,-2,48,-1,1205,-1,1107,22107,57,-2,-1,1205,-1,1107,21201,-2,-48,-2,2201,-5,-4,1090,20102,10,0,-1,22201,-2,-1,-2,2201,-5,-4,1103,2101,0,-2,0,1105,1,1060,21208,-2,10,-1,1205,-1,1162,21208,-2,44,-1,1206,-1,1131,1105,1,989,21101,0,439,1,1105,1,1150,21102,1,477,1,1106,0,1150,21102,1,514,1,21102,1,1149,0,1105,1,579,99,21101,0,1157,0,1106,0,579,204,-2,104,10,99,21207,-3,22,-1,1206,-1,1138,2102,1,-5,1176,2101,0,-4,0,109,-6,2106,0,0,14,5,42,1,3,1,42,1,3,1,42,1,3,1,42,1,3,1,42,1,3,1,42,1,3,1,5,13,24,1,3,1,5,1,11,1,24,1,1,5,3,1,1,13,22,1,1,1,1,1,1,1,3,1,1,1,9,1,1,1,22,1,1,1,1,13,5,1,1,1,22,1,1,1,3,1,3,1,1,1,3,1,5,1,1,1,22,7,3,1,1,1,1,11,24,1,7,1,1,1,1,1,1,1,5,1,18,9,7,1,1,5,5,5,14,1,15,1,3,1,11,1,14,1,15,1,3,1,11,1,14,1,15,1,3,1,11,1,6,9,5,11,3,1,11,1,6,1,13,1,13,1,11,1,6,1,13,1,9,7,9,1,6,1,13,1,9,1,3,1,1,1,9,1,6,1,13,13,1,1,1,1,9,8,23,1,1,1,1,1,1,1,16,1,23,5,1,1,16,1,25,1,3,1,16,1,25,1,3,1,16,1,25,1,3,1,16,1,25,1,3,1,16,1,25,1,3,1,16,7,19,1,3,1,22,1,19,1,3,1,22,1,19,5,22,1,46,1,46,1,46,1,46,1,46,5,46,1,46,1,46,1,46,1,46,1,46,1,46,1,46,13,24]"
      ],
      "execution_count": 0,
      "outputs": []
    },
    {
      "cell_type": "code",
      "metadata": {
        "id": "OQEx4G6UrRrM",
        "colab_type": "code",
        "colab": {}
      },
      "source": [
        "import matplotlib.pyplot as plt\n",
        "import copy as cp"
      ],
      "execution_count": 0,
      "outputs": []
    },
    {
      "cell_type": "code",
      "metadata": {
        "id": "St6zBO5GproM",
        "colab_type": "code",
        "colab": {}
      },
      "source": [
        "def plotImage(image):\n",
        "  plt.imshow(image, cmap='Greys')\n",
        "  plt.show()\n",
        "\n",
        "def extendCode(code):\n",
        "  for _ in range(3000):\n",
        "    code.append(0)\n",
        "  return code\n",
        "\n",
        "def intCode(code, pos=0, rel=0, inputs=[]):\n",
        "  def getValue(mode, code, pos, rel):\n",
        "    if mode == 0:\n",
        "      return code[code[pos]]\n",
        "    elif mode == 1:\n",
        "      return code[pos]\n",
        "    elif mode == 2:\n",
        "      return code[code[pos] + rel]\n",
        "    else:\n",
        "      print(\"Unknown Mode: %i\" %mode)\n",
        "\n",
        "  def readParams(params):\n",
        "    modes = []\n",
        "    for i in range(3):\n",
        "      modes.append(params % 10)\n",
        "      params = params // 10\n",
        "    return modes\n",
        "\n",
        "  def writeValue(mode, code, value, pos, rel):\n",
        "    if mode == 0:\n",
        "      code[code[pos]] = value\n",
        "    elif mode == 1:\n",
        "      code[pos] = value\n",
        "    elif mode == 2:\n",
        "      code[code[pos] + rel] = value\n",
        "    else:\n",
        "      print(\"Unknown Mode: %i\" %mode)\n",
        "\n",
        "  output = []\n",
        "  while code[pos] != 99:\n",
        "    com = code[pos] % 100\n",
        "    params = code[pos] // 100\n",
        "    modes = readParams(params)\n",
        "\n",
        "    if com == 1 or com == 2:\n",
        "      left = getValue(modes[0], code, pos+1, rel)\n",
        "      right = getValue(modes[1], code, pos+2, rel)\n",
        "\n",
        "      if com == 1:\n",
        "        answer = left + right\n",
        "      elif com == 2:\n",
        "        answer = left * right\n",
        "      \n",
        "      writeValue(modes[2], code, answer, pos+3, rel)\n",
        "\n",
        "      pos += 4\n",
        "    \n",
        "    elif com == 3:\n",
        "      if len(inputs) == 0:\n",
        "        return output, code, pos, rel, False\n",
        "      value = inputs[0]\n",
        "      inputs.remove(value)\n",
        "      writeValue(modes[0], code, value, pos+1, rel)\n",
        "      pos += 2\n",
        "    \n",
        "    elif com == 4:\n",
        "      output.append(getValue(modes[0], code, pos+1, rel))\n",
        "      pos += 2\n",
        "\n",
        "    elif com == 5 or com == 6:\n",
        "      value = getValue(modes[0], code, pos+1, rel)\n",
        "      \n",
        "      if (com == 5 and value != 0) or (com == 6 and value == 0):\n",
        "        pos = getValue(modes[1], code, pos+2, rel)\n",
        "      else:\n",
        "        pos += 3\n",
        "\n",
        "    elif com == 7 or com == 8:\n",
        "      left = getValue(modes[0], code, pos+1, rel)\n",
        "      right = getValue(modes[1], code, pos+2, rel)\n",
        "      \n",
        "      if (com == 7 and left < right) or (com == 8 and left == right):\n",
        "        writeValue(modes[2], code, 1, pos+3, rel)\n",
        "      else:\n",
        "        writeValue(modes[2], code, 0, pos+3, rel)\n",
        "      pos += 4\n",
        "    \n",
        "    elif com == 9:\n",
        "      rel += getValue(modes[0], code, pos+1, rel)\n",
        "      pos += 2\n",
        "\n",
        "    else:\n",
        "      print(com)\n",
        "      print(\"Error!!!\")\n",
        "      return None\n",
        "  return output, code, 0, 0, True"
      ],
      "execution_count": 0,
      "outputs": []
    },
    {
      "cell_type": "code",
      "metadata": {
        "id": "EWD38RFlrBdM",
        "colab_type": "code",
        "colab": {}
      },
      "source": [
        "def createGrid(width, height):\n",
        "  grid = []\n",
        "  for y in range(height):\n",
        "    row = []\n",
        "    for x in range(width):\n",
        "      row.append(0)\n",
        "    grid.append(row)\n",
        "  return grid\n",
        "\n",
        "def createMap(code, grid):\n",
        "  finished = False\n",
        "\n",
        "  output, code, rel, pos, finished = intCode(code)\n",
        "\n",
        "  x = 0\n",
        "  y = 0\n",
        "\n",
        "  sx = 0\n",
        "  sy = 0\n",
        "  facing = -1\n",
        "\n",
        "  for point in output:\n",
        "    if point == ord('#'):\n",
        "      grid[y][x] = 1\n",
        "      x += 1\n",
        "    elif point == ord('.'):\n",
        "      grid[y][x] = 0\n",
        "      x += 1\n",
        "    elif point == ord('\\n'):\n",
        "      y += 1\n",
        "      x = 0\n",
        "    else:\n",
        "      sx = x\n",
        "      sy = y\n",
        "      grid[y][x] = 1\n",
        "      if point == ord('^'):\n",
        "        facing = 0\n",
        "      elif point == ord('>'):\n",
        "        facing = 1\n",
        "      elif point == ord('v'):\n",
        "        facing = 2\n",
        "      elif point == ord('<'):\n",
        "        facing = 3\n",
        "      x += 1\n",
        "\n",
        "  return grid, sx, sy, facing\n",
        "\n",
        "def countAlignmentParams(grid):\n",
        "  total = 0\n",
        "  for y in range(1, len(grid)):\n",
        "    for x in range(1, len(grid[0])):\n",
        "      if grid[y][x] == 1:\n",
        "        if grid[y-1][x] == 1 and grid[y+1][x] == 1:\n",
        "          if grid[y][x-1] == 1 and grid[y][x+1] == 1:\n",
        "            total += (x * y)\n",
        "  return total"
      ],
      "execution_count": 0,
      "outputs": []
    },
    {
      "cell_type": "code",
      "metadata": {
        "id": "sdXHihtlrEma",
        "colab_type": "code",
        "outputId": "638347f9-5956-4ed8-e079-d8493084e49c",
        "colab": {
          "base_uri": "https://localhost:8080/",
          "height": 285
        }
      },
      "source": [
        "grid = createGrid(50, 50)\n",
        "extCode = extendCode(cp.copy(code))\n",
        "grid, x, y, face = createMap(extCode, grid)\n",
        "plotImage(grid)\n",
        "print(countAlignmentParams(grid))"
      ],
      "execution_count": 124,
      "outputs": [
        {
          "output_type": "display_data",
          "data": {
            "image/png": "[encoded data removed]",
            "text/plain": [
              "<Figure size 432x288 with 1 Axes>"
            ]
          },
          "metadata": {
            "tags": []
          }
        },
        {
          "output_type": "stream",
          "text": [
            "4220\n"
          ],
          "name": "stdout"
        }
      ]
    },
    {
      "cell_type": "markdown",
      "metadata": {
        "id": "A7HQ-xyyv1MW",
        "colab_type": "text"
      },
      "source": [
        "## Part 2"
      ]
    },
    {
      "cell_type": "code",
      "metadata": {
        "id": "WMvAb2-Jv-XV",
        "colab_type": "code",
        "colab": {}
      },
      "source": [
        "def modCode(code):\n",
        "  code[0] = 2\n",
        "\n",
        "def checkGrid(grid):\n",
        "  for row in grid:\n",
        "    for point in row:\n",
        "      if point == 1:\n",
        "        return False\n",
        "  return True\n",
        "\n",
        "def getDirection(grid, x, y, facing):\n",
        "  if facing == 0:\n",
        "    if grid[y - 1][x] == 0:\n",
        "      if grid[y][x + 1] == 1:\n",
        "        return 1, 'R'\n",
        "      else:\n",
        "        return 3, 'L'\n",
        "    else:\n",
        "      return 0, 'S'\n",
        "  if facing == 1:\n",
        "    if grid[y][x + 1] == 0:\n",
        "      if grid[y + 1][x] == 1:\n",
        "        return 2, 'R'\n",
        "      else:\n",
        "        return 0, 'L'\n",
        "    else:\n",
        "      return 1, 'S'\n",
        "  if facing == 2:\n",
        "    if grid[y + 1][x] == 0:\n",
        "      if grid[y][x - 1] == 1:\n",
        "        return 3, 'R'\n",
        "      else:\n",
        "        return 1, 'L'\n",
        "    else:\n",
        "      return 2, 'S'\n",
        "  if facing == 3:\n",
        "    if grid[y][x - 1] == 0:\n",
        "      if grid[y - 1][x] == 1:\n",
        "        return 0, 'R'\n",
        "      else:\n",
        "        return 2, 'L'\n",
        "    else:\n",
        "      return 3, 'S'\n",
        "\n",
        "def walk(grid, x, y, facing):\n",
        "  counter = 0\n",
        "  if facing == 0:\n",
        "    while grid[y - 1][x] == 1:\n",
        "      y -= 1\n",
        "      counter += 1\n",
        "      if grid[y][x - 1] == 0 or grid[y][x + 1] == 0:\n",
        "        grid[y][x] = 0\n",
        "  elif facing == 1:\n",
        "    while grid[y][x + 1] == 1:\n",
        "      x += 1\n",
        "      counter += 1\n",
        "      if grid[y - 1][x] == 0 or grid[y + 1][x] == 0:\n",
        "        grid[y][x] = 0\n",
        "  elif facing == 2:\n",
        "    while grid[y + 1][x] == 1:\n",
        "      y += 1\n",
        "      counter += 1\n",
        "      if grid[y][x - 1] == 0 or grid[y][x + 1] == 0:\n",
        "        grid[y][x] = 0\n",
        "  elif facing == 3:\n",
        "    while grid[y][x - 1] == 1:\n",
        "      x -= 1\n",
        "      counter += 1\n",
        "      if grid[y - 1][x] == 0 or grid[y + 1][x] == 0:\n",
        "        grid[y][x] = 0\n",
        "  return counter, x, y\n",
        "\n",
        "def createInstructions(grid, x, y, facing):\n",
        "  grid[y][x] = 0\n",
        "  output = ''\n",
        "  while not checkGrid(grid):\n",
        "    facing, turn = getDirection(grid, x, y, facing)\n",
        "    if turn != 'S':\n",
        "      output += turn\n",
        "    counter, x, y = walk(grid, x, y, facing)\n",
        "    output += str(counter)\n",
        "  return output\n",
        "\n",
        "def collectDust(code, grid, x, y, paths, movement):\n",
        "  finished = False\n",
        "  rel = 0\n",
        "  pos = 0\n",
        "  inputs = []\n",
        "  for el in movement:\n",
        "    inputs += [ord(el)]\n",
        "  inputs += [10]\n",
        "\n",
        "  for path in paths:\n",
        "    for el in path:\n",
        "      inputs += [ord(el)]\n",
        "    inputs += [10]\n",
        "  inputs += [ord('y'), 10]\n",
        "  while not finished:\n",
        "    output, code, rel, pos, finished = intCode(code, pos=pos, rel=rel, inputs=inputs)\n",
        "  return output[-1]\n",
        "\n"
      ],
      "execution_count": 0,
      "outputs": []
    },
    {
      "cell_type": "code",
      "metadata": {
        "id": "VqojM5wByulJ",
        "colab_type": "code",
        "outputId": "8f497058-364a-40c3-96d6-913a583a987e",
        "colab": {
          "base_uri": "https://localhost:8080/",
          "height": 322
        }
      },
      "source": [
        "# Found paths using my own logic\n",
        "paths = ['L,6,R,8,L,4,R,8,L,12', 'L,12,R,10,L,4', 'L,12,L,6,L,4,L,4\\n']\n",
        "movement = 'A,B,B,C,B,C,B,C,A,A'\n",
        "\n",
        "grid = createGrid(50, 50)\n",
        "extCode = extendCode(cp.copy(code))\n",
        "grid, x, y, facing = createMap(extCode, grid)\n",
        "plotImage(grid)\n",
        "print(createInstructions(grid, x, y, facing))\n",
        "\n",
        "grid = createGrid(50, 50)\n",
        "extCode = extendCode(cp.copy(code))\n",
        "modCode(extCode)\n",
        "print(collectDust(extCode, grid, x, y, paths, movement))"
      ],
      "execution_count": 186,
      "outputs": [
        {
          "output_type": "display_data",
          "data": {
            "image/png": "[encoded data removed]",
            "text/plain": [
              "<Figure size 432x288 with 1 Axes>"
            ]
          },
          "metadata": {
            "tags": []
          }
        },
        {
          "output_type": "stream",
          "text": [
            "L6R8L4R8L12L12R10L4L12R10L4L12L6L4L4L12R10L4L12L6L4L4L12R10L4L12L6L4L4L6R8L4R8L12L6R8L4R8L12\n",
            "809736\n"
          ],
          "name": "stdout"
        }
      ]
    }
  ]
}