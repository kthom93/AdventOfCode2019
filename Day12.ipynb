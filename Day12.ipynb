{
  "nbformat": 4,
  "nbformat_minor": 0,
  "metadata": {
    "colab": {
      "name": "Day12.ipynb",
      "provenance": [],
      "include_colab_link": true
    },
    "kernelspec": {
      "name": "python3",
      "display_name": "Python 3"
    }
  },
  "cells": [
    {
      "cell_type": "markdown",
      "metadata": {
        "id": "view-in-github",
        "colab_type": "text"
      },
      "source": [
        "<a href=\"https://colab.research.google.com/github/kthom93/AdventOfCode2019/blob/master/Day12.ipynb\" target=\"_parent\"><img src=\"https://colab.research.google.com/assets/colab-badge.svg\" alt=\"Open In Colab\"/></a>"
      ]
    },
    {
      "cell_type": "markdown",
      "metadata": {
        "id": "ME9mnrrPo-qs",
        "colab_type": "text"
      },
      "source": [
        "# The N-Body Problem"
      ]
    },
    {
      "cell_type": "markdown",
      "metadata": {
        "id": "KItXYyRupDoR",
        "colab_type": "text"
      },
      "source": [
        "## Part 1"
      ]
    },
    {
      "cell_type": "code",
      "metadata": {
        "id": "guhDVnFOpEb-",
        "colab_type": "code",
        "colab": {}
      },
      "source": [
        "positions = [[6, 10, 10], [-9, 3, 17], [9, -4, 14], [4, 14, 4]]"
      ],
      "execution_count": 0,
      "outputs": []
    },
    {
      "cell_type": "code",
      "metadata": {
        "id": "oRdsghhhpGks",
        "colab_type": "code",
        "colab": {}
      },
      "source": [
        "class Moon():\n",
        "  def __init__(self, x, y, z):\n",
        "    self.x = x\n",
        "    self.y = y\n",
        "    self.z = z\n",
        "    self.vx = 0\n",
        "    self.vy = 0\n",
        "    self.vz = 0\n",
        "\n",
        "  def applyGravity(self, moons):\n",
        "    for moon in moons:\n",
        "      if self is not moon:\n",
        "        if moon.x > self.x:\n",
        "          self.vx += 1\n",
        "        elif moon.x < self.x:\n",
        "          self.vx -= 1\n",
        "        \n",
        "        if moon.y > self.y:\n",
        "          self.vy += 1\n",
        "        elif moon.y < self.y:\n",
        "          self.vy -= 1\n",
        "        \n",
        "        if moon.z > self.z:\n",
        "          self.vz += 1\n",
        "        elif moon.z < self.z:\n",
        "          self.vz -= 1\n",
        "        \n",
        "  def applyVelocity(self):\n",
        "    self.x += self.vx\n",
        "    self.y += self.vy\n",
        "    self.z += self.vz\n",
        "\n",
        "  def energy(self):\n",
        "    pot = abs(self.x) + abs(self.y) + abs(self.z)\n",
        "    kin = abs(self.vx) + abs(self.vy) + abs(self.vz)\n",
        "    return pot * kin\n",
        "\n",
        "  def report(self):\n",
        "    print('Position: x=%i y=%i z=%i' %(self.x, self.y, self.z))\n",
        "    print('Velocity: x=%i y=%i z=%i' %(self.vx, self.vy, self.vz))\n",
        "\n",
        "def simulateMoons(positions, steps):\n",
        "  moons = []\n",
        "  for pos in positions:\n",
        "    moons.append(Moon(pos[0], pos[1], pos[2]))\n",
        "  \n",
        "  for i in range(steps):\n",
        "    for moon in moons:\n",
        "      moon.applyGravity(moons)\n",
        "    for moon in moons:\n",
        "      moon.applyVelocity()\n",
        "  for moon in moons:\n",
        "    moon.report()\n",
        "    print()\n",
        "  return moons\n",
        "\n",
        "def calcTotalEnergy(moons):\n",
        "  total = 0\n",
        "  for moon in moons:\n",
        "    total += moon.energy()\n",
        "  return total\n"
      ],
      "execution_count": 0,
      "outputs": []
    },
    {
      "cell_type": "code",
      "metadata": {
        "id": "WB47I3gApLG4",
        "colab_type": "code",
        "colab": {
          "base_uri": "https://localhost:8080/",
          "height": 244
        },
        "outputId": "d65837a0-422a-47a3-efa3-b02bb52bfd49"
      },
      "source": [
        "moons = simulateMoons(positions, 1000)\n",
        "\n",
        "print(calcTotalEnergy(moons))"
      ],
      "execution_count": 3,
      "outputs": [
        {
          "output_type": "stream",
          "text": [
            "Position: x=57 y=-19 z=-6\n",
            "Velocity: x=2 y=-3 z=14\n",
            "\n",
            "Position: x=-13 y=-62 z=75\n",
            "Velocity: x=15 y=-18 z=-1\n",
            "\n",
            "Position: x=21 y=133 z=-19\n",
            "Velocity: x=0 y=19 z=-3\n",
            "\n",
            "Position: x=-55 y=-29 z=-5\n",
            "Velocity: x=-17 y=2 z=-10\n",
            "\n",
            "13045\n"
          ],
          "name": "stdout"
        }
      ]
    },
    {
      "cell_type": "markdown",
      "metadata": {
        "id": "e0ChCd6opOPE",
        "colab_type": "text"
      },
      "source": [
        "## Part 2\n",
        "Had some help here"
      ]
    },
    {
      "cell_type": "code",
      "metadata": {
        "id": "Ju-IZ3wNpzIR",
        "colab_type": "code",
        "colab": {}
      },
      "source": [
        "import numpy as np"
      ],
      "execution_count": 0,
      "outputs": []
    },
    {
      "cell_type": "code",
      "metadata": {
        "id": "9rQaFNl9pM0B",
        "colab_type": "code",
        "colab": {}
      },
      "source": [
        "def update_state(state, combs, intermediate):\n",
        "    np.subtract(np.fliplr(state[combs, :3]), state[combs, :3], out=intermediate)\n",
        "    np.sign(intermediate, out=intermediate)\n",
        "    np.add.at(state[:, 3:], combs, intermediate)\n",
        "    state[:, :3] += state[:, 3:]\n",
        "\n",
        "def solve(positions):\n",
        "  combs = np.array([[0, 1], [0, 2], [0, 3], [1, 2], [1, 3], [2, 3]])\n",
        "  intermediate = np.zeros((6, 2, 3), dtype=np.int16)\n",
        "  initial = np.hstack((positions, np.zeros((4,3), dtype=np.int16)))\n",
        "\n",
        "  state, flags, cycle_lengths, cycle = initial.copy(), [3, 4, 5], [], 0\n",
        "  while any(flags):\n",
        "      update_state(state, combs, intermediate)\n",
        "      cycle += 1\n",
        "\n",
        "      for i in flags:\n",
        "          if i and not state[:, i].any():\n",
        "              cycle_lengths.append(2 * cycle)\n",
        "              flags[i - 3] = 0\n",
        "\n",
        "  return np.lcm.reduce(cycle_lengths)"
      ],
      "execution_count": 0,
      "outputs": []
    },
    {
      "cell_type": "code",
      "metadata": {
        "id": "sJXQ4kinpkVq",
        "colab_type": "code",
        "colab": {
          "base_uri": "https://localhost:8080/",
          "height": 34
        },
        "outputId": "22815660-94ae-403f-e734-059f131f39a8"
      },
      "source": [
        "print(solve(positions))"
      ],
      "execution_count": 12,
      "outputs": [
        {
          "output_type": "stream",
          "text": [
            "344724687853944\n"
          ],
          "name": "stdout"
        }
      ]
    },
    {
      "cell_type": "code",
      "metadata": {
        "id": "bKwxI6WEpm8X",
        "colab_type": "code",
        "colab": {}
      },
      "source": [
        ""
      ],
      "execution_count": 0,
      "outputs": []
    }
  ]
}