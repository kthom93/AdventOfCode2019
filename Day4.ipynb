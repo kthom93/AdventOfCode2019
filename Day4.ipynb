{
  "nbformat": 4,
  "nbformat_minor": 0,
  "metadata": {
    "colab": {
      "name": "Day4.ipynb",
      "provenance": [],
      "include_colab_link": true
    },
    "kernelspec": {
      "name": "python3",
      "display_name": "Python 3"
    }
  },
  "cells": [
    {
      "cell_type": "markdown",
      "metadata": {
        "id": "view-in-github",
        "colab_type": "text"
      },
      "source": [
        "<a href=\"https://colab.research.google.com/github/kthom93/AdventOfCode2019/blob/master/Day4.ipynb\" target=\"_parent\"><img src=\"https://colab.research.google.com/assets/colab-badge.svg\" alt=\"Open In Colab\"/></a>"
      ]
    },
    {
      "cell_type": "markdown",
      "metadata": {
        "id": "7kZb8dAKTC9t",
        "colab_type": "text"
      },
      "source": [
        "# Secure Container"
      ]
    },
    {
      "cell_type": "markdown",
      "metadata": {
        "id": "eImNgl0RTF_S",
        "colab_type": "text"
      },
      "source": [
        "## Part 1"
      ]
    },
    {
      "cell_type": "code",
      "metadata": {
        "id": "-vF4A5JlTG4c",
        "colab_type": "code",
        "colab": {}
      },
      "source": [
        "def totalPasswords(start, end):\n",
        "  total = 0\n",
        "  for i in range(start, end):\n",
        "    if check(i):\n",
        "      total += 1\n",
        "  return total\n",
        "\n",
        "def check(number):\n",
        "  l = []\n",
        "  while number > 1:\n",
        "    l.append(number % 10)\n",
        "    number = number // 10\n",
        "  \n",
        "  double = False\n",
        "  i = 0\n",
        "  while i < len(l) - 1:\n",
        "    if l[i] == l[i + 1]:\n",
        "      double = True\n",
        "    if l[i] < l[i + 1]:\n",
        "      return False\n",
        "    i += 1\n",
        "\n",
        "  return double"
      ],
      "execution_count": 0,
      "outputs": []
    },
    {
      "cell_type": "code",
      "metadata": {
        "id": "sdrmc3SMTK2i",
        "colab_type": "code",
        "colab": {
          "base_uri": "https://localhost:8080/",
          "height": 34
        },
        "outputId": "e5092616-08cc-4fe3-910c-99824fec2a2f"
      },
      "source": [
        "start = 353096\n",
        "end = 843212\n",
        "\n",
        "print(totalPasswords(start, end))"
      ],
      "execution_count": 2,
      "outputs": [
        {
          "output_type": "stream",
          "text": [
            "579\n"
          ],
          "name": "stdout"
        }
      ]
    },
    {
      "cell_type": "markdown",
      "metadata": {
        "id": "mL-X2kWLTNob",
        "colab_type": "text"
      },
      "source": [
        "## Part 2"
      ]
    },
    {
      "cell_type": "code",
      "metadata": {
        "id": "1VEXDivSTOgj",
        "colab_type": "code",
        "colab": {}
      },
      "source": [
        "def totalPasswords2(start, end):\n",
        "  total = 0\n",
        "  for i in range(start, end):\n",
        "    if check2(i):\n",
        "      total += 1\n",
        "  return total\n",
        "\n",
        "def check2(number):\n",
        "  l = []\n",
        "  while number > 1:\n",
        "    l.append(number % 10)\n",
        "    number = number // 10\n",
        "  \n",
        "  i = 0\n",
        "  while i < len(l) - 1:\n",
        "    if l[i] < l[i + 1]:\n",
        "      return False\n",
        "    i += 1\n",
        "\n",
        "  double = False\n",
        "  doubleCheck = False\n",
        "  i = 0\n",
        "  while i < len(l) - 1:\n",
        "    if l[i] == l[i + 1]:\n",
        "      repeat = l[i]\n",
        "      double = True\n",
        "      i += 2\n",
        "      while i < len(l) and repeat == l[i]:\n",
        "        double = False\n",
        "        i += 1\n",
        "      if double:\n",
        "        doubleCheck = True\n",
        "    else:\n",
        "      i += 1\n",
        "\n",
        "\n",
        "  return doubleCheck"
      ],
      "execution_count": 0,
      "outputs": []
    },
    {
      "cell_type": "code",
      "metadata": {
        "id": "CCgGY2JeUtbV",
        "colab_type": "code",
        "colab": {
          "base_uri": "https://localhost:8080/",
          "height": 34
        },
        "outputId": "4da8241f-65c3-4272-e9b5-4e48b92783b6"
      },
      "source": [
        "print(totalPasswords2(start, end))"
      ],
      "execution_count": 4,
      "outputs": [
        {
          "output_type": "stream",
          "text": [
            "358\n"
          ],
          "name": "stdout"
        }
      ]
    },
    {
      "cell_type": "code",
      "metadata": {
        "id": "75Am5xuVUvgV",
        "colab_type": "code",
        "colab": {}
      },
      "source": [
        ""
      ],
      "execution_count": 0,
      "outputs": []
    }
  ]
}