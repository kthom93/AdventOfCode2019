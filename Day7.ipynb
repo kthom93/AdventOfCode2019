{
  "nbformat": 4,
  "nbformat_minor": 0,
  "metadata": {
    "colab": {
      "name": "Day7.ipynb",
      "provenance": [],
      "include_colab_link": true
    },
    "kernelspec": {
      "name": "python3",
      "display_name": "Python 3"
    }
  },
  "cells": [
    {
      "cell_type": "markdown",
      "metadata": {
        "id": "view-in-github",
        "colab_type": "text"
      },
      "source": [
        "<a href=\"https://colab.research.google.com/github/kthom93/AdventOfCode2019/blob/master/Day7.ipynb\" target=\"_parent\"><img src=\"https://colab.research.google.com/assets/colab-badge.svg\" alt=\"Open In Colab\"/></a>"
      ]
    },
    {
      "cell_type": "markdown",
      "metadata": {
        "id": "fsBlJ4Ubgew9",
        "colab_type": "text"
      },
      "source": [
        "## Amplification Circuit"
      ]
    },
    {
      "cell_type": "markdown",
      "metadata": {
        "id": "FZwU9R1bghrW",
        "colab_type": "text"
      },
      "source": [
        "## Part 1"
      ]
    },
    {
      "cell_type": "code",
      "metadata": {
        "id": "I-OXa4Eog_Gy",
        "colab_type": "code",
        "colab": {}
      },
      "source": [
        "code = [3,8,1001,8,10,8,105,1,0,0,21,46,67,88,101,126,207,288,369,450,99999,3,9,1001,9,5,9,1002,9,5,9,1001,9,5,9,102,3,9,9,101,2,9,9,4,9,99,3,9,102,4,9,9,101,5,9,9,102,5,9,9,101,3,9,9,4,9,99,3,9,1001,9,3,9,102,2,9,9,1001,9,5,9,102,4,9,9,4,9,99,3,9,102,3,9,9,1001,9,4,9,4,9,99,3,9,102,3,9,9,1001,9,3,9,1002,9,2,9,101,4,9,9,102,3,9,9,4,9,99,3,9,101,2,9,9,4,9,3,9,101,2,9,9,4,9,3,9,101,2,9,9,4,9,3,9,102,2,9,9,4,9,3,9,1001,9,1,9,4,9,3,9,1002,9,2,9,4,9,3,9,102,2,9,9,4,9,3,9,101,2,9,9,4,9,3,9,102,2,9,9,4,9,3,9,101,1,9,9,4,9,99,3,9,101,1,9,9,4,9,3,9,1001,9,2,9,4,9,3,9,1001,9,2,9,4,9,3,9,102,2,9,9,4,9,3,9,1001,9,2,9,4,9,3,9,102,2,9,9,4,9,3,9,102,2,9,9,4,9,3,9,1001,9,1,9,4,9,3,9,1001,9,1,9,4,9,3,9,1002,9,2,9,4,9,99,3,9,101,1,9,9,4,9,3,9,1001,9,1,9,4,9,3,9,102,2,9,9,4,9,3,9,102,2,9,9,4,9,3,9,1001,9,1,9,4,9,3,9,1001,9,1,9,4,9,3,9,1001,9,2,9,4,9,3,9,101,2,9,9,4,9,3,9,101,2,9,9,4,9,3,9,1001,9,1,9,4,9,99,3,9,101,2,9,9,4,9,3,9,101,2,9,9,4,9,3,9,1002,9,2,9,4,9,3,9,101,2,9,9,4,9,3,9,1001,9,1,9,4,9,3,9,101,2,9,9,4,9,3,9,1002,9,2,9,4,9,3,9,101,1,9,9,4,9,3,9,101,1,9,9,4,9,3,9,101,1,9,9,4,9,99,3,9,101,1,9,9,4,9,3,9,102,2,9,9,4,9,3,9,1002,9,2,9,4,9,3,9,101,1,9,9,4,9,3,9,1002,9,2,9,4,9,3,9,1002,9,2,9,4,9,3,9,1001,9,2,9,4,9,3,9,1002,9,2,9,4,9,3,9,1001,9,2,9,4,9,3,9,102,2,9,9,4,9,99]"
      ],
      "execution_count": 0,
      "outputs": []
    },
    {
      "cell_type": "code",
      "metadata": {
        "id": "22hXwed5giPb",
        "colab_type": "code",
        "colab": {}
      },
      "source": [
        "import copy as cp"
      ],
      "execution_count": 0,
      "outputs": []
    },
    {
      "cell_type": "code",
      "metadata": {
        "id": "WGngJgVYgkwu",
        "colab_type": "code",
        "colab": {}
      },
      "source": [
        "def intCode(code, inputs):\n",
        "  index = 0\n",
        "  while index < len(code) and code[index] != 99:\n",
        "    command = code[index] % 100\n",
        "    params = code[index] // 100\n",
        "    \n",
        "    if command == 1 or command == 2:\n",
        "      numbers = []\n",
        "      for pos in range(index + 1, index + 3):\n",
        "        mode = params % 10 \n",
        "        params = params // 10\n",
        "        if mode == 0:\n",
        "          numbers.append(code[code[pos]])\n",
        "        if mode == 1:\n",
        "          numbers.append(code[pos])\n",
        "      mode = params % 10\n",
        "      if command == 1:\n",
        "        answer = numbers[0] + numbers[1]\n",
        "      elif command == 2:\n",
        "        answer = numbers[0] * numbers[1]\n",
        "      if mode == 0:\n",
        "        code[code[index + 3]] = answer\n",
        "      elif mode == 1:\n",
        "        code[index + 3] = answer\n",
        "      index += 4\n",
        "\n",
        "    elif command == 3:\n",
        "      inp = inputs[0]\n",
        "      inputs.remove(inp)\n",
        "      mode = params % 10\n",
        "      if mode == 0:\n",
        "        code[code[index + 1]] = inp\n",
        "      elif mode == 1:\n",
        "        code[index + 1] = inp\n",
        "      index += 2\n",
        "\n",
        "    elif command == 4:\n",
        "      mode = params % 10\n",
        "      if mode == 0:\n",
        "        output = code[code[index + 1]]\n",
        "      elif mode == 1:\n",
        "        output = code[index + 1]\n",
        "      index += 2\n",
        "\n",
        "    elif command == 5 or command == 6:\n",
        "      mode = params % 10\n",
        "      params = params // 10 \n",
        "      if mode == 0:\n",
        "        if (command == 5 and code[code[index + 1]] != 0) or (command == 6 and code[code[index + 1]] == 0):\n",
        "          mode = params % 10\n",
        "          if mode == 0:\n",
        "            index = code[code[index + 2]]\n",
        "          elif mode == 1:\n",
        "            index = code[index + 2]\n",
        "        else:\n",
        "          index += 3\n",
        "      elif mode == 1:\n",
        "        if (command == 5 and code[index + 1] != 0) or (command == 6 and code[index + 1] == 0):\n",
        "          mode = params % 10\n",
        "          if mode == 0:\n",
        "            index = code[code[index + 2]]\n",
        "          elif mode == 1:\n",
        "            index = code[index + 2]\n",
        "        else:\n",
        "          index += 3\n",
        "\n",
        "    elif command == 7 or command == 8:\n",
        "      mode = params % 10\n",
        "      params = params // 10\n",
        "      if mode == 0:\n",
        "        first = code[code[index + 1]]\n",
        "      elif mode == 1:\n",
        "        first = code[index + 1]\n",
        "      \n",
        "      mode = params % 10\n",
        "      params = params // 10\n",
        "      if mode == 0:\n",
        "        second = code[code[index + 2]]\n",
        "      elif mode == 1:\n",
        "        second = code[index + 2]\n",
        "\n",
        "      mode = params % 10\n",
        "      params = params // 10\n",
        "      if mode == 0:\n",
        "        if (command == 7 and first < second) or (command == 8 and first == second):\n",
        "          code[code[index + 3]] = 1\n",
        "        else:\n",
        "          code[code[index + 3]] = 0\n",
        "      elif mode == 1:\n",
        "        if (command == 7 and first < second) or (command == 8 and first == second):\n",
        "          code[index + 3] = 1\n",
        "        else:\n",
        "          code[index + 3] = 0\n",
        "      index += 4\n",
        "\n",
        "    else:\n",
        "      print(\"Error!!!\")\n",
        "      print(code[index])\n",
        "      return None\n",
        "  return output\n",
        "\n",
        "def amplifiers(code, phases, inp):\n",
        "  for phase in phases:\n",
        "    output = intCode(cp.copy(code), [phase, inp])\n",
        "    inp = output\n",
        "  return output\n",
        "\n",
        "def findBestThrust(code, inp):\n",
        "  default = [0, 1, 2, 3, 4]\n",
        "  permutations = genPermutations(default)\n",
        "  thrust = 0\n",
        "  for permutes in permutations:\n",
        "    cur = amplifiers(code, permutes, inp)\n",
        "    thrust = max(cur, thrust)\n",
        "  return thrust\n",
        "\n",
        "def genPermutations(lst):\n",
        "  if len(lst) == 0:\n",
        "    return []\n",
        "  if len(lst) == 1:\n",
        "    return [lst]\n",
        "  \n",
        "  l = []\n",
        "\n",
        "  for i in range(len(lst)):\n",
        "    m = lst[i]\n",
        "\n",
        "    remLst = lst[:i] + lst[i+1:]\n",
        "\n",
        "    for p in genPermutations(remLst):\n",
        "      l.append([m] + p)\n",
        "\n",
        "  return l"
      ],
      "execution_count": 0,
      "outputs": []
    },
    {
      "cell_type": "code",
      "metadata": {
        "id": "rYpv_TYng_5I",
        "colab_type": "code",
        "colab": {
          "base_uri": "https://localhost:8080/",
          "height": 34
        },
        "outputId": "fa3cb62c-3a86-41dc-e89e-8602e69eca0d"
      },
      "source": [
        "print(findBestThrust(code, 0))"
      ],
      "execution_count": 5,
      "outputs": [
        {
          "output_type": "stream",
          "text": [
            "844468\n"
          ],
          "name": "stdout"
        }
      ]
    },
    {
      "cell_type": "markdown",
      "metadata": {
        "id": "tptjYlJmhEkH",
        "colab_type": "text"
      },
      "source": [
        "## Part 2"
      ]
    },
    {
      "cell_type": "code",
      "metadata": {
        "id": "KjIg4wVkhCUz",
        "colab_type": "code",
        "colab": {}
      },
      "source": [
        "def intCode(code, inputs, index):\n",
        "  while index < len(code) and code[index] != 99:\n",
        "    command = code[index] % 100\n",
        "    params = code[index] // 100\n",
        "    \n",
        "    if command == 1 or command == 2:\n",
        "      numbers = []\n",
        "      for pos in range(index + 1, index + 3):\n",
        "        mode = params % 10 \n",
        "        params = params // 10\n",
        "        if mode == 0:\n",
        "          numbers.append(code[code[pos]])\n",
        "        if mode == 1:\n",
        "          numbers.append(code[pos])\n",
        "      mode = params % 10\n",
        "      if command == 1:\n",
        "        answer = numbers[0] + numbers[1]\n",
        "      elif command == 2:\n",
        "        answer = numbers[0] * numbers[1]\n",
        "      if mode == 0:\n",
        "        code[code[index + 3]] = answer\n",
        "      elif mode == 1:\n",
        "        code[index + 3] = answer\n",
        "      index += 4\n",
        "\n",
        "    elif command == 3:\n",
        "      if len(inputs) == 0:\n",
        "        return outpt, code, index, False\n",
        "      inp = inputs[0]\n",
        "      inputs.remove(inp)\n",
        "      mode = params % 10\n",
        "      if mode == 0:\n",
        "        code[code[index + 1]] = inp\n",
        "      elif mode == 1:\n",
        "        code[index + 1] = inp\n",
        "      index += 2\n",
        "\n",
        "    elif command == 4:\n",
        "      mode = params % 10\n",
        "      if mode == 0:\n",
        "        outpt = code[code[index + 1]]\n",
        "      elif mode == 1:\n",
        "        outpt = code[index + 1]\n",
        "      index += 2\n",
        "\n",
        "    elif command == 5 or command == 6:\n",
        "      mode = params % 10\n",
        "      params = params // 10 \n",
        "      if mode == 0:\n",
        "        if (command == 5 and code[code[index + 1]] != 0) or (command == 6 and code[code[index + 1]] == 0):\n",
        "          mode = params % 10\n",
        "          if mode == 0:\n",
        "            index = code[code[index + 2]]\n",
        "          elif mode == 1:\n",
        "            index = code[index + 2]\n",
        "        else:\n",
        "          index += 3\n",
        "      elif mode == 1:\n",
        "        if (command == 5 and code[index + 1] != 0) or (command == 6 and code[index + 1] == 0):\n",
        "          mode = params % 10\n",
        "          if mode == 0:\n",
        "            index = code[code[index + 2]]\n",
        "          elif mode == 1:\n",
        "            index = code[index + 2]\n",
        "        else:\n",
        "          index += 3\n",
        "\n",
        "    elif command == 7 or command == 8:\n",
        "      mode = params % 10\n",
        "      params = params // 10\n",
        "      if mode == 0:\n",
        "        first = code[code[index + 1]]\n",
        "      elif mode == 1:\n",
        "        first = code[index + 1]\n",
        "      \n",
        "      mode = params % 10\n",
        "      params = params // 10\n",
        "      if mode == 0:\n",
        "        second = code[code[index + 2]]\n",
        "      elif mode == 1:\n",
        "        second = code[index + 2]\n",
        "\n",
        "      mode = params % 10\n",
        "      params = params // 10\n",
        "      if mode == 0:\n",
        "        if (command == 7 and first < second) or (command == 8 and first == second):\n",
        "          code[code[index + 3]] = 1\n",
        "        else:\n",
        "          code[code[index + 3]] = 0\n",
        "      elif mode == 1:\n",
        "        if (command == 7 and first < second) or (command == 8 and first == second):\n",
        "          code[index + 3] = 1\n",
        "        else:\n",
        "          code[index + 3] = 0\n",
        "      index += 4\n",
        "\n",
        "    else:\n",
        "      print(\"Error\")\n",
        "      print(code[index])\n",
        "      return None\n",
        "  return outpt, code, 0, True\n",
        "\n",
        "class Amplifier():\n",
        "  def __init__(self, code, phase):\n",
        "    self.code = code\n",
        "    self.inp = [phase]\n",
        "    self.index = 0\n",
        "    self.finished = False\n",
        "  def runIntCode(self, inp):\n",
        "    self.inp.append(inp)\n",
        "    output, self.code, self.index, self.finished = intCode(self.code, self.inp, self.index)\n",
        "    self.inp = []\n",
        "    return output\n",
        "\n",
        "def runAmplifiers(code, phases, inp):\n",
        "  amplifiers = []\n",
        "  for i in range(5):\n",
        "    amplifiers.append(Amplifier(cp.copy(code), phases[i]))\n",
        "\n",
        "  loop = True\n",
        "  while loop:\n",
        "    for amp in amplifiers:\n",
        "      outpt = amp.runIntCode(inp)\n",
        "      inp = outpt\n",
        "      if amp.finished:\n",
        "        loop = False\n",
        "    \n",
        "  return outpt\n",
        "\n",
        "\n",
        "def findBestThrust(code, inp):\n",
        "  default = [5, 6, 7, 8, 9]\n",
        "  permutations = genPermutations(default)\n",
        "  thrust = 0\n",
        "  for permute in permutations:\n",
        "    cur = runAmplifiers(code, permute, inp)\n",
        "    thrust = max(cur, thrust)\n",
        "  return thrust"
      ],
      "execution_count": 0,
      "outputs": []
    },
    {
      "cell_type": "code",
      "metadata": {
        "id": "JAha0xJ8hm0e",
        "colab_type": "code",
        "colab": {
          "base_uri": "https://localhost:8080/",
          "height": 34
        },
        "outputId": "5f823720-83e7-4f5a-e660-d90011b7a79b"
      },
      "source": [
        "print(findBestThrust(code, 0))"
      ],
      "execution_count": 10,
      "outputs": [
        {
          "output_type": "stream",
          "text": [
            "4215746\n"
          ],
          "name": "stdout"
        }
      ]
    },
    {
      "cell_type": "code",
      "metadata": {
        "id": "RlfqjqNKhsA-",
        "colab_type": "code",
        "colab": {}
      },
      "source": [
        ""
      ],
      "execution_count": 0,
      "outputs": []
    }
  ]
}