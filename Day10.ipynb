{
  "nbformat": 4,
  "nbformat_minor": 0,
  "metadata": {
    "colab": {
      "name": "Day10.ipynb",
      "provenance": [],
      "include_colab_link": true
    },
    "kernelspec": {
      "name": "python3",
      "display_name": "Python 3"
    }
  },
  "cells": [
    {
      "cell_type": "markdown",
      "metadata": {
        "id": "view-in-github",
        "colab_type": "text"
      },
      "source": [
        "<a href=\"https://colab.research.google.com/github/kthom93/AdventOfCode2019/blob/master/Day10.ipynb\" target=\"_parent\"><img src=\"https://colab.research.google.com/assets/colab-badge.svg\" alt=\"Open In Colab\"/></a>"
      ]
    },
    {
      "cell_type": "markdown",
      "metadata": {
        "id": "MjNUBOEIj0oV",
        "colab_type": "text"
      },
      "source": [
        "# Monitoring Station"
      ]
    },
    {
      "cell_type": "markdown",
      "metadata": {
        "id": "jfgcbjzEllfN",
        "colab_type": "text"
      },
      "source": [
        "## Part 1"
      ]
    },
    {
      "cell_type": "code",
      "metadata": {
        "id": "MSJurXRSlkXG",
        "colab_type": "code",
        "colab": {}
      },
      "source": [
        "from math import atan2, pi"
      ],
      "execution_count": 0,
      "outputs": []
    },
    {
      "cell_type": "code",
      "metadata": {
        "id": "UvD46Wtnj3BH",
        "colab_type": "code",
        "colab": {}
      },
      "source": [
        "asteroidsMapText = '''###..#########.#####.\n",
        ".####.#####..####.#.#\n",
        ".###.#.#.#####.##..##\n",
        "##.####.#.###########\n",
        "###...#.####.#.#.####\n",
        "#.##..###.########...\n",
        "#.#######.##.#######.\n",
        ".#..#.#..###...####.#\n",
        "#######.##.##.###..##\n",
        "#.#......#....#.#.#..\n",
        "######.###.#.#.##...#\n",
        "####.#...#.#######.#.\n",
        ".######.#####.#######\n",
        "##.##.##.#####.##.#.#\n",
        "###.#######..##.#....\n",
        "###.##.##..##.#####.#\n",
        "##.########.#.#.#####\n",
        ".##....##..###.#...#.\n",
        "#..#.####.######..###\n",
        "..#.####.############\n",
        "..##...###..#########'''"
      ],
      "execution_count": 0,
      "outputs": []
    },
    {
      "cell_type": "code",
      "metadata": {
        "id": "6TxO_s27j7IO",
        "colab_type": "code",
        "colab": {}
      },
      "source": [
        "def parseAsteroids(asteroidsMapText):\n",
        "  rows = asteroidsMapText.split('\\n')\n",
        "  asteroids = []\n",
        "\n",
        "  for y in range(len(rows)):\n",
        "    for x in range(len(rows[0])):\n",
        "      if rows[y][x] == '#':\n",
        "        asteroids.append((x, y))\n",
        "  return asteroids\n",
        "\n",
        "def angle(first, second):\n",
        "  return atan2(second[0] - first[0], first[1] - second[1]) % ( 2 * pi)\n",
        "\n",
        "def getVisible(asteroids, current):\n",
        "  visible = set()\n",
        "  for asteroid in asteroids:\n",
        "    if asteroid != current:\n",
        "      visible.add(angle(current, asteroid))\n",
        "  return len(visible)\n",
        "\n",
        "\n",
        "def getMostVisible(asteroids):\n",
        "  most = 0\n",
        "  for asteroid in asteroids:\n",
        "    most = max(most, getVisible(asteroids, asteroid))\n",
        "  return most"
      ],
      "execution_count": 0,
      "outputs": []
    },
    {
      "cell_type": "code",
      "metadata": {
        "id": "6j5TzNN5kGZv",
        "colab_type": "code",
        "colab": {
          "base_uri": "https://localhost:8080/",
          "height": 34
        },
        "outputId": "8891dace-727d-4885-edee-fab6309ad68c"
      },
      "source": [
        "asteroids = parseAsteroids(asteroidsMapText)\n",
        "print(getMostVisible(asteroids))"
      ],
      "execution_count": 29,
      "outputs": [
        {
          "output_type": "stream",
          "text": [
            "221\n"
          ],
          "name": "stdout"
        }
      ]
    },
    {
      "cell_type": "markdown",
      "metadata": {
        "id": "rj9bHasImFp-",
        "colab_type": "text"
      },
      "source": [
        ""
      ]
    },
    {
      "cell_type": "markdown",
      "metadata": {
        "id": "cLdSERJHlzBr",
        "colab_type": "text"
      },
      "source": [
        "## Part 2\n",
        "Had some help here"
      ]
    },
    {
      "cell_type": "code",
      "metadata": {
        "id": "lWymqLzqkuhd",
        "colab_type": "code",
        "colab": {}
      },
      "source": [
        "from math import hypot\n",
        "from operator import itemgetter\n",
        "import copy as cp\n",
        "from collections import defaultdict"
      ],
      "execution_count": 0,
      "outputs": []
    },
    {
      "cell_type": "code",
      "metadata": {
        "id": "TQKmjtmul3Ua",
        "colab_type": "code",
        "colab": {}
      },
      "source": [
        "def distance(first, second):\n",
        "  return hypot(second[1] - first[1], second[0] - first[0])\n",
        "\n",
        "def destroyOrder(blocks, station):\n",
        "  return lambda asteroid: (blocks[asteroid], angle(station, asteroid))\n",
        "\n",
        "def destroyAsteroids(asteroids):\n",
        "  visibles = []\n",
        "  for asteroid in asteroids:\n",
        "    visibles.append((asteroid, getVisible(asteroids, asteroid)))\n",
        "  \n",
        "  visibles.sort(key=itemgetter(1))\n",
        "\n",
        "  station = visibles[-1][0]\n",
        "  asteroids.remove(station)\n",
        "\n",
        "  asteroids.sort(key=lambda a: distance(station, a))\n",
        "  blocks = defaultdict(lambda: 0)\n",
        "\n",
        "  for a, asteroid in enumerate(asteroids):\n",
        "    closestAteroids = asteroids[:a]\n",
        "    for closeAsteroid in closestAteroids:\n",
        "      a1 = angle(station, asteroid)\n",
        "      a2 = angle(station, closeAsteroid)\n",
        "      if a1 == a2:\n",
        "        block = blocks[asteroid]\n",
        "        blocks[asteroid] = block + 1\n",
        "  order = destroyOrder(blocks, station)\n",
        "  return sorted(asteroids, key=lambda a: order(a))[199]\n"
      ],
      "execution_count": 0,
      "outputs": []
    },
    {
      "cell_type": "code",
      "metadata": {
        "id": "Dy8IIp0gmCEf",
        "colab_type": "code",
        "colab": {
          "base_uri": "https://localhost:8080/",
          "height": 34
        },
        "outputId": "158256ca-9c25-4388-8541-da60c075cd0d"
      },
      "source": [
        "print(destroyAsteroids(cp.copy(asteroids)))"
      ],
      "execution_count": 41,
      "outputs": [
        {
          "output_type": "stream",
          "text": [
            "(8, 6)\n"
          ],
          "name": "stdout"
        }
      ]
    },
    {
      "cell_type": "code",
      "metadata": {
        "id": "gJJqzEk-nhwz",
        "colab_type": "code",
        "colab": {}
      },
      "source": [
        ""
      ],
      "execution_count": 0,
      "outputs": []
    }
  ]
}