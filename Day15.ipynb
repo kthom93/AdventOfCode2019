{
  "nbformat": 4,
  "nbformat_minor": 0,
  "metadata": {
    "colab": {
      "name": "Day15.ipynb",
      "provenance": [],
      "include_colab_link": true
    },
    "kernelspec": {
      "name": "python3",
      "display_name": "Python 3"
    }
  },
  "cells": [
    {
      "cell_type": "markdown",
      "metadata": {
        "id": "view-in-github",
        "colab_type": "text"
      },
      "source": [
        "<a href=\"https://colab.research.google.com/github/kthom93/AdventOfCode2019/blob/master/Day15.ipynb\" target=\"_parent\"><img src=\"https://colab.research.google.com/assets/colab-badge.svg\" alt=\"Open In Colab\"/></a>"
      ]
    },
    {
      "cell_type": "markdown",
      "metadata": {
        "id": "oiv0KyJOu5b6",
        "colab_type": "text"
      },
      "source": [
        "# Oxygen System"
      ]
    },
    {
      "cell_type": "markdown",
      "metadata": {
        "id": "wg58xQUGu7Pi",
        "colab_type": "text"
      },
      "source": [
        "## Part 1"
      ]
    },
    {
      "cell_type": "code",
      "metadata": {
        "id": "esi27pn6v1db",
        "colab_type": "code",
        "colab": {}
      },
      "source": [
        "code = [3,1033,1008,1033,1,1032,1005,1032,31,1008,1033,2,1032,1005,1032,58,1008,1033,3,1032,1005,1032,81,1008,1033,4,1032,1005,1032,104,99,1002,1034,1,1039,101,0,1036,1041,1001,1035,-1,1040,1008,1038,0,1043,102,-1,1043,1032,1,1037,1032,1042,1106,0,124,101,0,1034,1039,101,0,1036,1041,1001,1035,1,1040,1008,1038,0,1043,1,1037,1038,1042,1105,1,124,1001,1034,-1,1039,1008,1036,0,1041,102,1,1035,1040,1001,1038,0,1043,1001,1037,0,1042,1106,0,124,1001,1034,1,1039,1008,1036,0,1041,1002,1035,1,1040,1002,1038,1,1043,101,0,1037,1042,1006,1039,217,1006,1040,217,1008,1039,40,1032,1005,1032,217,1008,1040,40,1032,1005,1032,217,1008,1039,33,1032,1006,1032,165,1008,1040,35,1032,1006,1032,165,1102,2,1,1044,1105,1,224,2,1041,1043,1032,1006,1032,179,1101,1,0,1044,1105,1,224,1,1041,1043,1032,1006,1032,217,1,1042,1043,1032,1001,1032,-1,1032,1002,1032,39,1032,1,1032,1039,1032,101,-1,1032,1032,101,252,1032,211,1007,0,58,1044,1106,0,224,1101,0,0,1044,1106,0,224,1006,1044,247,101,0,1039,1034,101,0,1040,1035,1001,1041,0,1036,1001,1043,0,1038,1001,1042,0,1037,4,1044,1105,1,0,33,14,68,54,69,24,9,59,2,7,68,23,97,53,74,21,32,37,55,83,3,26,85,52,38,10,81,19,82,47,70,27,60,32,98,40,46,75,17,66,11,92,30,84,90,36,71,6,82,95,45,23,75,49,38,71,72,2,72,26,64,93,53,68,90,42,3,64,3,66,21,84,47,15,87,60,18,96,30,14,54,99,48,12,63,62,86,41,56,79,50,99,38,68,16,15,69,53,90,59,28,41,7,94,47,74,68,56,43,70,22,55,72,87,28,50,28,55,98,97,22,64,63,21,28,8,87,91,39,1,93,52,95,96,68,13,24,64,14,65,78,89,34,85,92,35,57,83,70,21,75,43,24,76,74,11,90,55,74,22,63,9,95,64,79,2,78,30,74,75,33,23,47,93,93,56,77,48,72,35,42,82,36,25,20,81,15,56,95,96,33,94,53,46,64,31,46,98,43,40,98,48,6,71,44,83,7,56,64,92,72,24,29,35,37,22,63,21,28,68,75,31,77,28,96,71,35,11,66,55,87,17,64,5,53,95,79,52,95,16,78,80,47,51,90,68,63,1,10,99,79,80,30,97,32,82,27,62,49,1,61,93,71,7,39,93,40,75,50,94,68,22,3,44,5,93,55,53,92,92,16,30,94,17,15,77,55,76,25,97,53,73,96,54,98,39,73,75,5,56,78,81,48,64,73,97,25,71,91,28,56,90,53,75,28,79,63,35,48,81,8,28,95,73,52,30,29,88,4,94,2,36,92,86,87,9,34,92,98,30,99,40,37,87,36,49,34,99,72,38,54,71,1,74,41,20,72,40,90,89,6,1,74,50,63,47,98,79,45,90,78,34,10,78,2,72,94,56,30,86,45,82,74,51,73,88,36,65,30,63,8,17,68,92,13,93,3,77,72,20,90,63,37,86,77,17,95,56,57,61,77,74,19,18,70,34,93,23,96,8,93,1,79,81,66,27,38,2,12,31,81,43,48,93,67,60,17,93,44,99,39,72,35,92,99,42,46,79,60,22,56,75,60,95,23,84,33,67,16,16,36,55,39,83,46,75,80,79,2,63,25,60,20,4,39,97,20,90,4,30,86,9,7,90,80,49,20,98,29,83,51,46,92,27,65,34,57,61,10,94,84,90,3,51,64,5,37,19,51,69,73,39,96,99,24,34,66,21,76,81,33,85,14,67,54,29,94,17,85,8,88,42,6,89,83,9,52,81,90,11,38,95,20,93,81,20,20,86,6,36,69,77,25,15,91,78,32,80,3,22,11,90,89,6,11,73,1,82,46,77,99,26,41,2,75,92,52,13,80,96,44,38,98,47,96,87,28,65,77,17,48,93,93,46,8,82,86,26,84,64,38,53,83,67,97,30,64,39,53,31,63,60,11,86,81,22,84,13,89,75,2,77,5,31,69,3,8,75,60,13,14,90,66,28,66,18,85,70,51,82,94,28,29,99,35,71,75,80,1,93,14,13,91,14,83,24,77,32,8,48,85,96,31,6,54,70,95,32,35,66,80,88,3,96,35,80,54,8,70,30,2,18,59,81,27,31,85,73,35,79,68,30,14,21,67,74,57,60,98,44,46,24,12,60,31,39,68,79,50,3,61,40,75,54,25,85,6,93,56,86,74,98,10,15,66,68,13,44,26,98,40,79,80,14,14,86,30,5,74,66,46,96,17,83,6,98,16,67,91,90,56,97,1,68,14,85,93,69,56,88,40,79,29,91,25,68,69,74,48,66,73,76,17,61,31,62,90,84,46,89,0,0,21,21,1,10,1,0,0,0,0,0,0]"
      ],
      "execution_count": 0,
      "outputs": []
    },
    {
      "cell_type": "code",
      "metadata": {
        "id": "KpAidVoyz7gz",
        "colab_type": "code",
        "colab": {}
      },
      "source": [
        "import copy as cp\n",
        "import matplotlib.pyplot as plt\n",
        "import random"
      ],
      "execution_count": 0,
      "outputs": []
    },
    {
      "cell_type": "code",
      "metadata": {
        "id": "GHbr_E9Uu9UF",
        "colab_type": "code",
        "colab": {}
      },
      "source": [
        "def extendCode(code):\n",
        "  for _ in range(3000):\n",
        "    code.append(0)\n",
        "  return code\n",
        "\n",
        "\n",
        "def intCode(code, pos=0, rel=0, inputs=[]):\n",
        "  def getValue(mode, code, pos, rel):\n",
        "    if mode == 0:\n",
        "      return code[code[pos]]\n",
        "    elif mode == 1:\n",
        "      return code[pos]\n",
        "    elif mode == 2:\n",
        "      return code[code[pos] + rel]\n",
        "    else:\n",
        "      print(\"Unknown Mode: %i\" %mode)\n",
        "\n",
        "  def readParams(params):\n",
        "    modes = []\n",
        "    for i in range(3):\n",
        "      modes.append(params % 10)\n",
        "      params = params // 10\n",
        "    return modes\n",
        "\n",
        "  def writeValue(mode, code, value, pos, rel):\n",
        "    if mode == 0:\n",
        "      code[code[pos]] = value\n",
        "    elif mode == 1:\n",
        "      code[pos] = value\n",
        "    elif mode == 2:\n",
        "      code[code[pos] + rel] = value\n",
        "    else:\n",
        "      print(\"Unknown Mode: %i\" %mode)\n",
        "\n",
        "  output = []\n",
        "  while code[pos] != 99:\n",
        "    com = code[pos] % 100\n",
        "    params = code[pos] // 100\n",
        "    modes = readParams(params)\n",
        "\n",
        "    if com == 1 or com == 2:\n",
        "      left = getValue(modes[0], code, pos+1, rel)\n",
        "      right = getValue(modes[1], code, pos+2, rel)\n",
        "\n",
        "      if com == 1:\n",
        "        answer = left + right\n",
        "      elif com == 2:\n",
        "        answer = left * right\n",
        "      \n",
        "      writeValue(modes[2], code, answer, pos+3, rel)\n",
        "\n",
        "      pos += 4\n",
        "    \n",
        "    elif com == 3:\n",
        "      if len(inputs) == 0:\n",
        "        return output, code, pos, rel, False\n",
        "      value = inputs[0]\n",
        "      inputs.remove(value)\n",
        "      writeValue(modes[0], code, value, pos+1, rel)\n",
        "      pos += 2\n",
        "    \n",
        "    elif com == 4:\n",
        "      output.append(getValue(modes[0], code, pos+1, rel))\n",
        "      pos += 2\n",
        "\n",
        "    elif com == 5 or com == 6:\n",
        "      value = getValue(modes[0], code, pos+1, rel)\n",
        "      \n",
        "      if (com == 5 and value != 0) or (com == 6 and value == 0):\n",
        "        pos = getValue(modes[1], code, pos+2, rel)\n",
        "      else:\n",
        "        pos += 3\n",
        "\n",
        "    elif com == 7 or com == 8:\n",
        "      left = getValue(modes[0], code, pos+1, rel)\n",
        "      right = getValue(modes[1], code, pos+2, rel)\n",
        "      \n",
        "      if (com == 7 and left < right) or (com == 8 and left == right):\n",
        "        writeValue(modes[2], code, 1, pos+3, rel)\n",
        "      else:\n",
        "        writeValue(modes[2], code, 0, pos+3, rel)\n",
        "      pos += 4\n",
        "    \n",
        "    elif com == 9:\n",
        "      rel += getValue(modes[0], code, pos+1, rel)\n",
        "      pos += 2\n",
        "\n",
        "    else:\n",
        "      print(\"Error!!!\")\n",
        "      return None\n",
        "  return output, code, 0, 0, True\n",
        "\n",
        "def plotImage(image):\n",
        "  plt.imshow(image)\n",
        "  plt.show()\n",
        "\n",
        "def createGrid():\n",
        "  grid = []\n",
        "  for y in range(size):\n",
        "    row = []\n",
        "    for x in range(size):\n",
        "      row.append(0)\n",
        "    grid.append(row)\n",
        "  return grid\n",
        "\n",
        "class Robot():\n",
        "  def __init__(self, x, y, code, grid):\n",
        "    self.x = x\n",
        "    self.y = y\n",
        "    self.code = code\n",
        "    self.grid = grid\n",
        "    self.pos = 0\n",
        "    self.rel = 0\n",
        "    self.finished = False\n",
        "    self.movement = 1\n",
        "\n",
        "  # 0: unexplored\n",
        "  # 1: wall\n",
        "  # 2: path\n",
        "  # 3: oxygen\n",
        "  # 4: start\n",
        "  def map(self):\n",
        "    self.grid[self.y][self.x] = 4\n",
        "\n",
        "    for i in range(1, 5):\n",
        "      self.mapR(self.x, self.y, cp.copy(code), self.pos, self.rel, i)\n",
        "    return self.grid\n",
        "\n",
        "\n",
        "  def mapR(self, x, y, code, pos, rel, move):\n",
        "    output, code, pos, rel, finished = intCode(code, pos=pos, rel=rel, inputs=[move])\n",
        "    if output[0] == 0:\n",
        "      if move == 1:\n",
        "        self.grid[y - 1][x] = 1\n",
        "      elif move == 2:\n",
        "        self.grid[y + 1][x] = 1\n",
        "      elif move == 3:\n",
        "        self.grid[y][x - 1] = 1\n",
        "      elif move == 4:\n",
        "        self.grid[y][x + 1] = 1\n",
        "      return\n",
        "\n",
        "    elif output[0] == 1 or output[0] == 2:\n",
        "      if move == 1:\n",
        "        y -= 1\n",
        "      elif move == 2:\n",
        "        y += 1\n",
        "      elif move == 3:\n",
        "        x -= 1\n",
        "      elif move == 4:\n",
        "        x += 1\n",
        "      if output[0] == 1:\n",
        "        self.grid[y][x] = 2\n",
        "      else:\n",
        "        self.grid[y][x] = 3\n",
        "    \n",
        "      if self.grid[y - 1][x] == 0:\n",
        "        self.mapR(x, y, cp.copy(code), pos, rel, 1)\n",
        "      if self.grid[y + 1][x] == 0:\n",
        "        self.mapR(x, y, cp.copy(code), pos, rel, 2)\n",
        "      if self.grid[y][x - 1] == 0:\n",
        "        self.mapR(x, y, cp.copy(code), pos, rel, 3)\n",
        "      if self.grid[y][x + 1] == 0:\n",
        "        self.mapR(x, y, cp.copy(code), pos, rel, 4)\n",
        "      \n",
        "\n",
        "def mapGrid(code):\n",
        "  x = 25\n",
        "  y = 25\n",
        "  grid = createGrid()\n",
        "  robot = Robot(x, y, code, grid)\n",
        "\n",
        "  grid = robot.map()\n",
        "  plotImage(grid)\n",
        "  return grid, x, y\n",
        "\n",
        "size = 50\n",
        "\n",
        "class Node():\n",
        "  def __init__(self, x, y, dist):\n",
        "    self.x = x\n",
        "    self.y = y\n",
        "    self.dist = dist\n",
        "\n",
        "def findPath(grid, x, y):\n",
        "  visited = [[False for i in range(50)] for j in range(50)]\n",
        "  q = []\n",
        "  visited[y][x] = True\n",
        "  q.append(Node(x, y, 0))\n",
        "  minDist = 99999\n",
        "\n",
        "  while q:\n",
        "    cur = q[0]\n",
        "    q.remove(cur)\n",
        "\n",
        "    x = cur.x\n",
        "    y = cur.y\n",
        "\n",
        "    dist = cur.dist\n",
        "\n",
        "    if grid[y][x] == 3:\n",
        "      minDist = dist\n",
        "      break\n",
        "    if not visited[y - 1][x] and grid[y - 1][x] != 1:\n",
        "      visited[y - 1][x] = True\n",
        "      q.append(Node(x, y - 1, dist + 1))\n",
        "    if not visited[y + 1][x] and grid[y + 1][x] != 1:\n",
        "      visited[y + 1][x] = True\n",
        "      q.append(Node(x, y + 1, dist + 1))\n",
        "    if not visited[y][x - 1] and grid[y][x - 1] != 1:\n",
        "      visited[y][x - 1] = True\n",
        "      q.append(Node(x - 1, y, dist + 1))\n",
        "    if not visited[y][x + 1] and grid[y][x + 1] != 1:\n",
        "      visited[y][x + 1] = True\n",
        "      q.append(Node(x + 1, y, dist + 1))\n",
        "\n",
        "  return minDist\n",
        "\n"
      ],
      "execution_count": 0,
      "outputs": []
    },
    {
      "cell_type": "code",
      "metadata": {
        "id": "z7SeRxDzviw_",
        "colab_type": "code",
        "colab": {
          "base_uri": "https://localhost:8080/",
          "height": 284
        },
        "outputId": "141e5f33-99ba-4169-f539-0873526eaf25"
      },
      "source": [
        "extCode = extendCode(cp.copy(code))\n",
        "grid, x, y = mapGrid(extCode)\n",
        "print(findPath(grid, x, y))"
      ],
      "execution_count": 34,
      "outputs": [
        {
          "output_type": "display_data",
          "data": {
            "image/png": "[encoded data removed]",
            "text/plain": [
              "<Figure size 432x288 with 1 Axes>"
            ]
          },
          "metadata": {
            "tags": []
          }
        },
        {
          "output_type": "stream",
          "text": [
            "230\n"
          ],
          "name": "stdout"
        }
      ]
    },
    {
      "cell_type": "code",
      "metadata": {
        "id": "X1La9Aay055l",
        "colab_type": "code",
        "colab": {}
      },
      "source": [
        "# 0: unexplored\n",
        "# 1: wall\n",
        "# 2: path\n",
        "# 3: oxygen\n",
        "\n",
        "def oxygenFill(grid):\n",
        "  counter = 0\n",
        "  finished = False\n",
        "\n",
        "  grid[25][25] = 2\n",
        "\n",
        "  prevGrid = cp.deepcopy(grid)\n",
        "  currGrid = cp.deepcopy(grid)\n",
        "\n",
        "  while not finished:\n",
        "    finished = True\n",
        "    # Uncomment to visualize\n",
        "    # plotImage(currGrid)\n",
        "    for y in range(len(currGrid)):\n",
        "      for x in range(len(currGrid[0])):\n",
        "        if prevGrid[y][x] == 3:\n",
        "          if prevGrid[y - 1][x] == 2:\n",
        "            currGrid[y - 1][x] = 3\n",
        "            finished = False\n",
        "          if prevGrid[y + 1][x] == 2:\n",
        "            currGrid[y + 1][x] = 3\n",
        "            finished = False            \n",
        "          if prevGrid[y][x - 1] == 2:\n",
        "            currGrid[y][x - 1] = 3\n",
        "            finished = False\n",
        "          if prevGrid[y][x + 1] == 2:\n",
        "            currGrid[y][x + 1] = 3\n",
        "            finished = False\n",
        "    prevGrid = cp.deepcopy(currGrid)\n",
        "    counter += 1\n",
        "  return counter  - 1         "
      ],
      "execution_count": 0,
      "outputs": []
    },
    {
      "cell_type": "code",
      "metadata": {
        "id": "G2z7qO9i4O2R",
        "colab_type": "code",
        "colab": {
          "base_uri": "https://localhost:8080/",
          "height": 34
        },
        "outputId": "afe86ec2-9408-4536-a1a8-e214a0100359"
      },
      "source": [
        "print(oxygenFill(cp.deepcopy(grid)))"
      ],
      "execution_count": 45,
      "outputs": [
        {
          "output_type": "stream",
          "text": [
            "288\n"
          ],
          "name": "stdout"
        }
      ]
    },
    {
      "cell_type": "code",
      "metadata": {
        "id": "h4kkvOdl6igL",
        "colab_type": "code",
        "colab": {}
      },
      "source": [
        ""
      ],
      "execution_count": 0,
      "outputs": []
    }
  ]
}