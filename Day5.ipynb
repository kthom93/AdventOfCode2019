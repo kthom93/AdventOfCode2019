{
  "nbformat": 4,
  "nbformat_minor": 0,
  "metadata": {
    "colab": {
      "name": "Day5.ipynb",
      "provenance": [],
      "include_colab_link": true
    },
    "kernelspec": {
      "name": "python3",
      "display_name": "Python 3"
    }
  },
  "cells": [
    {
      "cell_type": "markdown",
      "metadata": {
        "id": "view-in-github",
        "colab_type": "text"
      },
      "source": [
        "<a href=\"https://colab.research.google.com/github/kthom93/AdventOfCode2019/blob/master/Day5.ipynb\" target=\"_parent\"><img src=\"https://colab.research.google.com/assets/colab-badge.svg\" alt=\"Open In Colab\"/></a>"
      ]
    },
    {
      "cell_type": "markdown",
      "metadata": {
        "id": "hNXeo6rXVDAD",
        "colab_type": "text"
      },
      "source": [
        "# Sunny with a Chance of Asteroids"
      ]
    },
    {
      "cell_type": "markdown",
      "metadata": {
        "id": "3YAaw3R_VINA",
        "colab_type": "text"
      },
      "source": [
        "## Part 1"
      ]
    },
    {
      "cell_type": "code",
      "metadata": {
        "id": "kJTqVFoVdpxs",
        "colab_type": "code",
        "colab": {}
      },
      "source": [
        "import copy as cp"
      ],
      "execution_count": 0,
      "outputs": []
    },
    {
      "cell_type": "code",
      "metadata": {
        "id": "Ali5IbUYdYQY",
        "colab_type": "code",
        "colab": {}
      },
      "source": [
        "code = [3,225,1,225,6,6,1100,1,238,225,104,0,1102,72,20,224,1001,224,-1440,224,4,224,102,8,223,223,1001,224,5,224,1,224,223,223,1002,147,33,224,101,-3036,224,224,4,224,102,8,223,223,1001,224,5,224,1,224,223,223,1102,32,90,225,101,65,87,224,101,-85,224,224,4,224,1002,223,8,223,101,4,224,224,1,223,224,223,1102,33,92,225,1102,20,52,225,1101,76,89,225,1,117,122,224,101,-78,224,224,4,224,102,8,223,223,101,1,224,224,1,223,224,223,1102,54,22,225,1102,5,24,225,102,50,84,224,101,-4600,224,224,4,224,1002,223,8,223,101,3,224,224,1,223,224,223,1102,92,64,225,1101,42,83,224,101,-125,224,224,4,224,102,8,223,223,101,5,224,224,1,224,223,223,2,58,195,224,1001,224,-6840,224,4,224,102,8,223,223,101,1,224,224,1,223,224,223,1101,76,48,225,1001,92,65,224,1001,224,-154,224,4,224,1002,223,8,223,101,5,224,224,1,223,224,223,4,223,99,0,0,0,677,0,0,0,0,0,0,0,0,0,0,0,1105,0,99999,1105,227,247,1105,1,99999,1005,227,99999,1005,0,256,1105,1,99999,1106,227,99999,1106,0,265,1105,1,99999,1006,0,99999,1006,227,274,1105,1,99999,1105,1,280,1105,1,99999,1,225,225,225,1101,294,0,0,105,1,0,1105,1,99999,1106,0,300,1105,1,99999,1,225,225,225,1101,314,0,0,106,0,0,1105,1,99999,1107,677,226,224,1002,223,2,223,1005,224,329,101,1,223,223,7,677,226,224,102,2,223,223,1005,224,344,1001,223,1,223,1107,226,226,224,1002,223,2,223,1006,224,359,1001,223,1,223,8,226,226,224,1002,223,2,223,1006,224,374,101,1,223,223,108,226,226,224,102,2,223,223,1005,224,389,1001,223,1,223,1008,226,226,224,1002,223,2,223,1005,224,404,101,1,223,223,1107,226,677,224,1002,223,2,223,1006,224,419,101,1,223,223,1008,226,677,224,1002,223,2,223,1006,224,434,101,1,223,223,108,677,677,224,1002,223,2,223,1006,224,449,101,1,223,223,1108,677,226,224,102,2,223,223,1006,224,464,1001,223,1,223,107,677,677,224,102,2,223,223,1005,224,479,101,1,223,223,7,226,677,224,1002,223,2,223,1006,224,494,1001,223,1,223,7,677,677,224,102,2,223,223,1006,224,509,101,1,223,223,107,226,677,224,1002,223,2,223,1006,224,524,1001,223,1,223,1007,226,226,224,102,2,223,223,1006,224,539,1001,223,1,223,108,677,226,224,102,2,223,223,1005,224,554,101,1,223,223,1007,677,677,224,102,2,223,223,1006,224,569,101,1,223,223,8,677,226,224,102,2,223,223,1006,224,584,1001,223,1,223,1008,677,677,224,1002,223,2,223,1006,224,599,1001,223,1,223,1007,677,226,224,1002,223,2,223,1005,224,614,101,1,223,223,1108,226,677,224,1002,223,2,223,1005,224,629,101,1,223,223,1108,677,677,224,1002,223,2,223,1005,224,644,1001,223,1,223,8,226,677,224,1002,223,2,223,1006,224,659,101,1,223,223,107,226,226,224,102,2,223,223,1005,224,674,101,1,223,223,4,223,99,226]"
      ],
      "execution_count": 0,
      "outputs": []
    },
    {
      "cell_type": "code",
      "metadata": {
        "id": "J0qCpnX6VHmH",
        "colab_type": "code",
        "colab": {}
      },
      "source": [
        "def intCode2(code, inp):\n",
        "  index = 0\n",
        "  while index < len(code) and code[index] != 99:\n",
        "    command = code[index] % 100\n",
        "    params = code[index] // 100\n",
        "    \n",
        "    if command == 1 or command == 2:\n",
        "      numbers = []\n",
        "      for pos in range(index + 1, index + 3):\n",
        "        mode = params % 10 \n",
        "        params = params // 10\n",
        "        if mode == 0:\n",
        "          numbers.append(code[code[pos]])\n",
        "        if mode == 1:\n",
        "          numbers.append(code[pos])\n",
        "      mode = params % 10\n",
        "      if command == 1:\n",
        "        answer = numbers[0] + numbers[1]\n",
        "      elif command == 2:\n",
        "        answer = numbers[0] * numbers[1]\n",
        "      if mode == 0:\n",
        "        code[code[index + 3]] = answer\n",
        "      elif mode == 1:\n",
        "        code[index + 3] = answer\n",
        "      index += 4\n",
        "\n",
        "    elif command == 3:\n",
        "      mode = params % 10\n",
        "      if mode == 0:\n",
        "        code[code[index + 1]] = inp\n",
        "      elif mode == 1:\n",
        "        code[index + 1] = inp\n",
        "      index += 2\n",
        "\n",
        "    elif command == 4:\n",
        "      mode = params % 10\n",
        "      if mode == 0:\n",
        "        output = code[code[index + 1]]\n",
        "      elif mode == 1:\n",
        "        output = code[index + 1]\n",
        "      index += 2\n",
        "\n",
        "    elif command == 5 or command == 6:\n",
        "      mode = params % 10\n",
        "      params = params // 10 \n",
        "      if mode == 0:\n",
        "        if (command == 5 and code[code[index + 1]] != 0) or (command == 6 and code[code[index + 1]] == 0):\n",
        "          mode = params % 10\n",
        "          if mode == 0:\n",
        "            index = code[code[index + 2]]\n",
        "          elif mode == 1:\n",
        "            index = code[index + 2]\n",
        "        else:\n",
        "          index += 3\n",
        "      elif mode == 1:\n",
        "        if (command == 5 and code[index + 1] != 0) or (command == 6 and code[index + 1] == 0):\n",
        "          mode = params % 10\n",
        "          if mode == 0:\n",
        "            index = code[code[index + 2]]\n",
        "          elif mode == 1:\n",
        "            index = code[index + 2]\n",
        "        else:\n",
        "          index += 3\n",
        "\n",
        "    elif command == 7 or command == 8:\n",
        "      mode = params % 10\n",
        "      params = params // 10\n",
        "      if mode == 0:\n",
        "        first = code[code[index + 1]]\n",
        "      elif mode == 1:\n",
        "        first = code[index + 1]\n",
        "      \n",
        "      mode = params % 10\n",
        "      params = params // 10\n",
        "      if mode == 0:\n",
        "        second = code[code[index + 2]]\n",
        "      elif mode == 1:\n",
        "        second = code[index + 2]\n",
        "\n",
        "      mode = params % 10\n",
        "      params = params // 10\n",
        "      if mode == 0:\n",
        "        if (command == 7 and first < second) or (command == 8 and first == second):\n",
        "          code[code[index + 3]] = 1\n",
        "        else:\n",
        "          code[code[index + 3]] = 0\n",
        "      elif mode == 1:\n",
        "        if (command == 7 and first < second) or (command == 8 and first == second):\n",
        "          code[index + 3] = 1\n",
        "        else:\n",
        "          code[index + 3] = 0\n",
        "      index += 4\n",
        "\n",
        "    else:\n",
        "      print(\"Error\")\n",
        "      print(code[index])\n",
        "      return None\n",
        "  return output"
      ],
      "execution_count": 0,
      "outputs": []
    },
    {
      "cell_type": "code",
      "metadata": {
        "id": "bF5AZq9CdY7b",
        "colab_type": "code",
        "colab": {
          "base_uri": "https://localhost:8080/",
          "height": 34
        },
        "outputId": "759a2879-0cfd-4d59-8336-a117b31ee240"
      },
      "source": [
        "print(intCode2(cp.copy(code), 1))"
      ],
      "execution_count": 9,
      "outputs": [
        {
          "output_type": "stream",
          "text": [
            "11933517\n"
          ],
          "name": "stdout"
        }
      ]
    },
    {
      "cell_type": "markdown",
      "metadata": {
        "id": "19RBGpsldcRg",
        "colab_type": "text"
      },
      "source": [
        "## Part 2"
      ]
    },
    {
      "cell_type": "code",
      "metadata": {
        "id": "9l-P9KoDdfwH",
        "colab_type": "code",
        "colab": {
          "base_uri": "https://localhost:8080/",
          "height": 34
        },
        "outputId": "db1a22eb-120e-4808-fa2e-0180be3a35d7"
      },
      "source": [
        "print(intCode2(cp.copy(code), 5))"
      ],
      "execution_count": 10,
      "outputs": [
        {
          "output_type": "stream",
          "text": [
            "10428568\n"
          ],
          "name": "stdout"
        }
      ]
    },
    {
      "cell_type": "code",
      "metadata": {
        "id": "Z5Fn03AKd8Hq",
        "colab_type": "code",
        "colab": {}
      },
      "source": [
        ""
      ],
      "execution_count": 0,
      "outputs": []
    }
  ]
}